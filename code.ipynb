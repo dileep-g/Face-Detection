{
 "cells": [
  {
   "cell_type": "markdown",
   "metadata": {},
   "source": [
    "# ECEN 649 COURSE PROJECT | VIOLA-JONES ALGORITHM\n",
    "##### DILEEP KUMAR GUNDA | UIN: 627006688"
   ]
  },
  {
   "cell_type": "markdown",
   "metadata": {},
   "source": [
    "## 2.1 Extract Haar Features (20 points)"
   ]
  },
  {
   "cell_type": "markdown",
   "metadata": {},
   "source": [
    "Run blocks **Feature definitions** and **Integral Matrix** before executing below code."
   ]
  },
  {
   "cell_type": "code",
   "execution_count": 3,
   "metadata": {
    "scrolled": false
   },
   "outputs": [
    {
     "name": "stdout",
     "output_type": "stream",
     "text": [
      "        Two Vertical:      17100\n",
      "      Two Horizontal:      17100\n",
      "      Three Vertical:      10830\n",
      "    Three Horizontal:      10830\n",
      "                Four:       8100\n",
      "               Total:      63960\n"
     ]
    }
   ],
   "source": [
    "import numpy as np\n",
    "from PIL import Image\n",
    "\n",
    "im = Image.open('dataset/trainset/faces/face00001.png')\n",
    "np_im = np.array(im)\n",
    "ii = integral_image(np_im)\n",
    "all_features = build_features(ii.shape)"
   ]
  },
  {
   "cell_type": "markdown",
   "metadata": {},
   "source": [
    "#### Feature definitions"
   ]
  },
  {
   "cell_type": "code",
   "execution_count": 1,
   "metadata": {},
   "outputs": [],
   "source": [
    "from collections import namedtuple\n",
    "Feature = namedtuple('Feature', 'type x y width height coords_x coords_y coeffs')\n",
    "\n",
    "'''\n",
    "2 rectangular sections, arranged horizontally\n",
    "A | B\n",
    "-1|+1\n",
    "value = B - A\n",
    "'''\n",
    "def feature_2h(x, y, width, height):\n",
    "    coords_x = [x, x+width, x, x+width,\n",
    "                x+width, x+2*width, x+width, x+2*width]\n",
    "    coords_y = [y, y, y+height, y+height,\n",
    "               y, y, y+height, y+height]\n",
    "    coeffs = [-1, 1, 1, -1,\n",
    "             1, -1, -1, 1]\n",
    "    return Feature('Two Horizontal', x, y, 2*width, height, coords_x, coords_y, coeffs)\n",
    "\n",
    "\n",
    "'''\n",
    "2 rectangular sections, arranged vertically\n",
    "A |+1\n",
    "--\n",
    "B |-1\n",
    "value = A - B\n",
    "'''\n",
    "def feature_2v(x, y, width, height):\n",
    "    coords_x = [x, x+width, x, x+width,\n",
    "                x, x+width, x, x+width]\n",
    "    coords_y = [y, y, y+height, y+height,\n",
    "                y+height, y+height, y+2*height, y+2*height]\n",
    "    coeffs = [1, -1, -1, 1,\n",
    "              -1, 1, 1, -1]\n",
    "    return Feature('Two Vertical', x, y, width, 2*height, coords_x, coords_y, coeffs)\n",
    "\n",
    "'''\n",
    "3 rectangular sections, arrange horizontally\n",
    "A | B | C\n",
    "-1|+1 |-1\n",
    "value = B -A -C\n",
    "'''\n",
    "def feature_3h(x, y, width, height):\n",
    "    coords_x = [x, x+width, x, x+width,\n",
    "                x+width, x+2*width, x+width, x+2*width,\n",
    "                x+2*width, x+3*width, x+2*width, x+3*width]\n",
    "    coords_y = [y, y, y+height, y+height,\n",
    "                y, y, y+height, y+height,\n",
    "                y, y, y+height, y+height]\n",
    "    coeffs = [-1, 1, 1, -1,\n",
    "               1, -1, -1, 1,\n",
    "              -1, 1, 1, -1]\n",
    "    return Feature('Three Horizontal', x, y, 3*width, height, coords_x, coords_y, coeffs)\n",
    "\n",
    "'''\n",
    "3 rectangular sections, stacked vertically\n",
    "A |-1\n",
    "--\n",
    "B |+1\n",
    "--\n",
    "C |-1\n",
    "value = B -A -C\n",
    "'''\n",
    "def feature_3v(x, y, width, height):\n",
    "    coords_x = [x, x+width, x, x+width,\n",
    "                x, x+width, x, x+width,\n",
    "                x, x+width, x, x+width]\n",
    "    coords_y = [y, y, y+height, y+height,\n",
    "                y+height, y+height, y+2*height, y+2*height,\n",
    "                y+2*height, y+2*height, y+3*height, y+3*height]\n",
    "    coeffs = [-1, 1, 1, -1,\n",
    "               1, -1, -1, 1,\n",
    "              -1, 1, 1, -1]\n",
    "    return Feature('Three Vertical', x, y, width, 3*height, coords_x, coords_y, coeffs)\n",
    "\n",
    "'''\n",
    "4 rectangular sections, arranged like 2x2 matrix\n",
    "A(-1) | B(+1)\n",
    "-------------\n",
    "C(+1) | D(-1)\n",
    "value = B + C -A -D\n",
    "'''\n",
    "def feature_4d(x, y, width, height):\n",
    "    coords_x = [x, x+width, x, x+width,\n",
    "                x+width, x+2*width, x+width, x+2*width,\n",
    "                x, x+width, x, x+width,\n",
    "                x+width, x+2*width, x+width, x+2*width]\n",
    "    coords_y = [y, y, y+height, y+height,\n",
    "                y, y, y+height, y+height,\n",
    "                y+height, y+height, y+2*height, y+2*height,\n",
    "                y+height, y+height, y+2*height, y+2*height]\n",
    "    coeffs = [-1, 1, 1, -1,\n",
    "               1, -1, -1, 1,\n",
    "               1, -1, -1, 1,\n",
    "              -1, 1, 1, -1]\n",
    "    return Feature('Four', x, y, 2*width, 2*height, coords_x, coords_y, coeffs)\n",
    "\n",
    "'''\n",
    "computes and returns a scalar value, corresponding to the feature value\n",
    "'''\n",
    "def compute_feature_value(image, feature):\n",
    "    return np.sum(np.multiply(image[feature.coords_y, feature.coords_x], feature.coeffs))"
   ]
  },
  {
   "cell_type": "markdown",
   "metadata": {},
   "source": [
    "##### Integral Matrix computation utility"
   ]
  },
  {
   "cell_type": "code",
   "execution_count": 2,
   "metadata": {},
   "outputs": [],
   "source": [
    "import numpy as np\n",
    "\n",
    "def integral_image(array):\n",
    "    s = np.zeros(array.shape)\n",
    "    ii = np.zeros(array.shape)\n",
    "    for x in range(array.shape[0]):\n",
    "        for y in range(0,array.shape[1]):\n",
    "            s[x,y] = s[x,y-1] + array[x,y] if y>0 else array[x,y]\n",
    "            ii[x,y] = ii[x-1,y] + s[x,y] if x>0 else s[x,y]\n",
    "    return np.pad(ii, (1, 1), 'constant', constant_values=(0, 0))[:-1, :-1]\n",
    "\n",
    "\"\"\"\n",
    "Builds the possible features given an image shape\n",
    "  Args:\n",
    "    image_shape: a tuple of form (height, width)\n",
    "  Returns:\n",
    "    an array of tuples. Each tuple's first element is an array of the rectangle regions which positively contribute to the feature. The second element is an array of rectangle regions negatively contributing to the feature\n",
    "\"\"\"\n",
    "def build_features(image_shape):\n",
    "        height, width = image_shape\n",
    "        features = [[],[],[],[],[]]\n",
    "        fn_names = ['Two Vertical', 'Two Horizontal', 'Three Vertical', 'Three Horizontal', 'Four']\n",
    "        for i in range(width):\n",
    "            for j in range(height):\n",
    "                for w in range(1, width+1):\n",
    "                    for h in range(1, height+1):\n",
    "                        if i + w < width and j + h < height:\n",
    "                             # Two Vertical\n",
    "                            if j + 2 * h < height:\n",
    "                                features[0].append(feature_2v(i, j, w, h))\n",
    "                                \n",
    "                            # Two Horizontal\n",
    "                            if i + 2 * w < width: \n",
    "                                features[1].append(feature_2h(i, j, w, h))\n",
    "\n",
    "                            # Three Vertical\n",
    "                            if j + 3 * h < height: \n",
    "                                features[2].append(feature_3v(i, j, w, h))\n",
    "                                \n",
    "                            # Three Horizontal\n",
    "                            if i + 3 * w < width:\n",
    "                                features[3].append(feature_3h(i, j, w, h))\n",
    "\n",
    "                            # Four\n",
    "                            if i + 2 * w < width and j + 2 * h < height:\n",
    "                                features[4].append(feature_4d(i, j, w, h))\n",
    "        total_features = []\n",
    "        for i,fn in enumerate(fn_names):\n",
    "            print('%20s: %10d' % (fn_names[i], len(features[i])))\n",
    "            total_features.extend(features[i])\n",
    "        print('%20s: %10d' % ('Total', len(total_features)))\n",
    "        return total_features"
   ]
  },
  {
   "cell_type": "markdown",
   "metadata": {},
   "source": [
    "## 2.2 Build your Adaboost Detector (50 points)"
   ]
  },
  {
   "cell_type": "markdown",
   "metadata": {},
   "source": [
    "#### Prepare Trainset"
   ]
  },
  {
   "cell_type": "code",
   "execution_count": 30,
   "metadata": {},
   "outputs": [
    {
     "name": "stdout",
     "output_type": "stream",
     "text": [
      "Processing: faces\n",
      "200 400 \n",
      "Processing: non-faces\n",
      "200 400 600 800 1000 1200 1400 1600 1800 2000 \n",
      "train samples: train_X: (2499, 63960), labels dimension: (2499,)\n"
     ]
    }
   ],
   "source": [
    "import os\n",
    "import numpy as np\n",
    "from PIL import Image\n",
    "\n",
    "data_dir = 'dataset/trainset'\n",
    "train_X = []\n",
    "train_Y = []\n",
    "for folder in ['faces', 'non-faces']:\n",
    "    im_dir = '%s/%s' % (data_dir, folder)\n",
    "    imgs = os.listdir(im_dir)\n",
    "    processed = 0\n",
    "    print('Processing: %s' % (folder))\n",
    "    for img_filename in imgs:\n",
    "        im_path = '%s/%s' % (im_dir, img_filename)\n",
    "        # convert image into numpy array\n",
    "        im = Image.open(im_path)\n",
    "        np_im = np.array(im)\n",
    "        # convert numpy image into intergal format\n",
    "        ii = integral_image(np_im)\n",
    "        # compute all feature values for this image\n",
    "        feature_values = []\n",
    "        for f in all_features:\n",
    "            feature_values.append(compute_feature_value(ii, f))\n",
    "        train_X.append(feature_values)\n",
    "        train_Y.append(1.0 if folder=='faces' else 0.0)\n",
    "        processed += 1\n",
    "        if processed % 200 == 0:\n",
    "            print(processed, end= ' ')\n",
    "    print('')\n",
    "        \n",
    "train_X = np.array(train_X)\n",
    "train_Y = np.array(train_Y)\n",
    "print('train samples: train_X: %s, labels dimension: %s' % (train_X.shape, train_Y.shape))\n",
    "\n",
    "train_X.dump('train-X')\n",
    "train_Y.dump('train-Y')"
   ]
  },
  {
   "cell_type": "markdown",
   "metadata": {},
   "source": [
    "#### Prepare testset"
   ]
  },
  {
   "cell_type": "code",
   "execution_count": 31,
   "metadata": {},
   "outputs": [
    {
     "name": "stdout",
     "output_type": "stream",
     "text": [
      "Processing: faces\n",
      "200 400 \n",
      "Processing: non-faces\n",
      "200 400 600 800 1000 1200 1400 1600 1800 2000 \n",
      "train samples: test_X: (2473, 63960), labels dimension: (2473,)\n"
     ]
    }
   ],
   "source": [
    "import os\n",
    "import numpy as np\n",
    "from PIL import Image\n",
    "\n",
    "data_dir = 'dataset/testset'\n",
    "test_X = []\n",
    "test_Y = []\n",
    "for folder in ['faces', 'non-faces']:\n",
    "    im_dir = '%s/%s' % (data_dir, folder)\n",
    "    imgs = os.listdir(im_dir)\n",
    "    processed = 0\n",
    "    print('Processing: %s' % (folder))\n",
    "    for img_filename in imgs:\n",
    "        im_path = '%s/%s' % (im_dir, img_filename)\n",
    "        # convert image into numpy array\n",
    "        im = Image.open(im_path)\n",
    "        np_im = np.array(im)\n",
    "        # convert numpy image into intergal format\n",
    "        ii = integral_image(np_im)\n",
    "        # compute all feature values for this image\n",
    "        feature_values = []\n",
    "        for f in all_features:\n",
    "            feature_values.append(compute_feature_value(ii, f))\n",
    "        test_X.append(feature_values)\n",
    "        test_Y.append(1.0 if folder=='faces' else 0.0)\n",
    "        processed += 1\n",
    "        if processed % 200 == 0:\n",
    "            print(processed, end= ' ')\n",
    "    print('')\n",
    "        \n",
    "test_X = np.array(test_X)\n",
    "test_Y = np.array(test_Y)\n",
    "print('train samples: test_X: %s, labels dimension: %s' % (test_X.shape, test_Y.shape))\n",
    "\n",
    "test_X.dump('test-X')\n",
    "test_Y.dump('test-Y')"
   ]
  },
  {
   "cell_type": "markdown",
   "metadata": {},
   "source": [
    "### Adaboost T=1\n",
    "\n",
    "Run **Prepare trainset, Prepare testset, Train, Test, PrintImage** sections before running code below."
   ]
  },
  {
   "cell_type": "code",
   "execution_count": 58,
   "metadata": {},
   "outputs": [
    {
     "name": "stdout",
     "output_type": "stream",
     "text": [
      "Tranining Adaboost\n",
      "Round: (1/1)\n",
      "processed: 1000 2000 3000 4000 5000 6000 7000 8000 9000 10000 11000 12000 13000 14000 15000 16000 17000 18000 19000 20000 21000 22000 23000 24000 25000 26000 27000 28000 29000 30000 31000 32000 33000 34000 35000 36000 37000 38000 39000 40000 41000 42000 43000 44000 45000 46000 47000 48000 49000 50000 51000 52000 53000 54000 55000 56000 57000 58000 59000 60000 61000 62000 63000 \n",
      "time to execute 1 round: 635.339427 s\n"
     ]
    }
   ],
   "source": [
    "import time\n",
    "\n",
    "start_time = time.time()\n",
    "weak_classifiers_t1 = train(train_X, train_Y, 1, all_features, skip_chance=-1)\n",
    "end_time = time.time()\n",
    "print('time to execute 1 round: %f s' % (end_time - start_time))\n",
    "pickle_it(weak_classifiers_t1, 'weak_classifiers_t1')"
   ]
  },
  {
   "cell_type": "markdown",
   "metadata": {},
   "source": [
    "##### Performance"
   ]
  },
  {
   "cell_type": "code",
   "execution_count": 41,
   "metadata": {},
   "outputs": [
    {
     "name": "stdout",
     "output_type": "stream",
     "text": [
      "Performance on Train Data, T=1\n",
      "Evaluation:\n",
      "accuracy: 0.800720, false positive rate: 0.181673 false negative rate: 0.017607\n",
      "\n",
      "Performance on Test Data, T=1\n",
      "Evaluation:\n",
      "accuracy: 0.808330, false positive rate: 0.096239 false negative rate: 0.095431\n"
     ]
    }
   ],
   "source": [
    "print('Performance on Train Data, T=1')\n",
    "pred_stats = test_weak_classifier(train_X, train_Y, weak_classifiers_t1[0])\n",
    "print('')\n",
    "print('Performance on Test Data, T=1')\n",
    "pred_stats = test_weak_classifier(test_X, test_Y, weak_classifiers_t1[0])"
   ]
  },
  {
   "cell_type": "code",
   "execution_count": 40,
   "metadata": {},
   "outputs": [
    {
     "name": "stdout",
     "output_type": "stream",
     "text": [
      "Classifiers for round: 1\n",
      "[WeakClassifier(polarity=1, threshold=-182.0, alpha=1.6762838449232742, classifier=Feature(type='Two Vertical', x=14, y=3, width=2, height=6, coords_x=[14, 16, 14, 16, 14, 16, 14, 16], coords_y=[3, 3, 6, 6, 6, 6, 9, 9], coeffs=[1, -1, -1, 1, -1, 1, 1, -1]), position=15890)]\n"
     ]
    }
   ],
   "source": [
    "print('Classifiers for round: 1')\n",
    "pickle_it(weak_classifiers_t1, 'weak_classifiers_t1')\n",
    "print(weak_classifiers_t1)"
   ]
  },
  {
   "cell_type": "code",
   "execution_count": 4,
   "metadata": {},
   "outputs": [
    {
     "name": "stdout",
     "output_type": "stream",
     "text": [
      "Test Image\n"
     ]
    },
    {
     "data": {
      "image/png": "[encoded data removed]",
      "text/plain": [
       "<Figure size 432x288 with 1 Axes>"
      ]
     },
     "metadata": {
      "needs_background": "light"
     },
     "output_type": "display_data"
    },
    {
     "name": "stdout",
     "output_type": "stream",
     "text": [
      "Filter on test image\n"
     ]
    },
    {
     "data": {
      "image/png": "[encoded data removed]",
      "text/plain": [
       "<Figure size 432x288 with 1 Axes>"
      ]
     },
     "metadata": {
      "needs_background": "light"
     },
     "output_type": "display_data"
    }
   ],
   "source": [
    "print_filter_image(weak_classifiers_t1[0])"
   ]
  },
  {
   "cell_type": "markdown",
   "metadata": {},
   "source": [
    "### Adaboost T=3"
   ]
  },
  {
   "cell_type": "code",
   "execution_count": 59,
   "metadata": {},
   "outputs": [
    {
     "name": "stdout",
     "output_type": "stream",
     "text": [
      "Tranining Adaboost\n",
      "Round: (1/3)\n",
      "processed: 1000 2000 3000 4000 5000 6000 7000 8000 9000 10000 11000 12000 13000 14000 15000 16000 17000 18000 19000 20000 21000 22000 23000 24000 25000 26000 27000 28000 29000 30000 31000 32000 33000 34000 35000 36000 37000 38000 39000 40000 41000 42000 43000 44000 45000 46000 47000 48000 49000 50000 51000 52000 53000 54000 55000 56000 57000 58000 59000 60000 61000 62000 63000 \n",
      "Round: (2/3)\n",
      "processed: 1000 2000 3000 4000 5000 6000 7000 8000 9000 10000 11000 12000 13000 14000 15000 16000 17000 18000 19000 20000 21000 22000 23000 24000 25000 26000 27000 28000 29000 30000 31000 32000 33000 34000 35000 36000 37000 38000 39000 40000 41000 42000 43000 44000 45000 46000 47000 48000 49000 50000 51000 52000 53000 54000 55000 56000 57000 58000 59000 60000 61000 62000 63000 \n",
      "Round: (3/3)\n",
      "processed: 1000 2000 3000 4000 5000 6000 7000 8000 9000 10000 11000 12000 13000 14000 15000 16000 17000 18000 19000 20000 21000 22000 23000 24000 25000 26000 27000 28000 29000 30000 31000 32000 33000 34000 35000 36000 37000 38000 39000 40000 41000 42000 43000 44000 45000 46000 47000 48000 49000 50000 51000 52000 53000 54000 55000 56000 57000 58000 59000 60000 61000 62000 63000 \n",
      "time to execute 3 round: 1537.313274 s\n"
     ]
    }
   ],
   "source": [
    "import time\n",
    "\n",
    "start_time = time.time()\n",
    "weak_classifiers_t3 = train(train_X, train_Y, 3, all_features, skip_chance=-1)\n",
    "end_time = time.time()\n",
    "print('time to execute 3 round: %f s' % (end_time - start_time))\n",
    "pickle_it(weak_classifiers_t3, 'weak_classifiers_t3')"
   ]
  },
  {
   "cell_type": "markdown",
   "metadata": {},
   "source": [
    "##### Performance"
   ]
  },
  {
   "cell_type": "code",
   "execution_count": 38,
   "metadata": {},
   "outputs": [
    {
     "name": "stdout",
     "output_type": "stream",
     "text": [
      "Performance on Train Data, T=3\n",
      "Evaluation:\n",
      "accuracy: 0.875550, false positive rate: 0.105642 false negative rate: 0.018808\n",
      "\n",
      "Performance on Test Data, T=3\n",
      "Evaluation:\n",
      "accuracy: 0.842701, false positive rate: 0.038011 false negative rate: 0.119288\n"
     ]
    }
   ],
   "source": [
    "print('Performance on Train Data, T=3')\n",
    "pred_stats = test_strong_classifier(train_X, train_Y, weak_classifiers_t3)\n",
    "print('')\n",
    "print('Performance on Test Data, T=3')\n",
    "pred_stats = test_strong_classifier(test_X, test_Y, weak_classifiers_t3)"
   ]
  },
  {
   "cell_type": "code",
   "execution_count": 37,
   "metadata": {
    "scrolled": true
   },
   "outputs": [
    {
     "name": "stdout",
     "output_type": "stream",
     "text": [
      "Classifiers for round: 3\n",
      "WeakClassifier(polarity=1, threshold=-182.0, alpha=1.6762838449232742, classifier=Feature(type='Two Vertical', x=14, y=3, width=2, height=6, coords_x=[14, 16, 14, 16, 14, 16, 14, 16], coords_y=[3, 3, 6, 6, 6, 6, 9, 9], coeffs=[1, -1, -1, 1, -1, 1, 1, -1]), position=15890)\n",
      "WeakClassifier(polarity=1, threshold=-9.0, alpha=1.1452467923505691, classifier=Feature(type='Two Vertical', x=5, y=14, width=1, height=4, coords_x=[5, 6, 5, 6, 5, 6, 5, 6], coords_y=[14, 14, 16, 16, 16, 16, 18, 18], coeffs=[1, -1, -1, 1, -1, 1, 1, -1]), position=8827)\n",
      "WeakClassifier(polarity=1, threshold=-45.0, alpha=1.1397507878072382, classifier=Feature(type='Two Horizontal', x=10, y=1, width=2, height=3, coords_x=[10, 11, 10, 11, 11, 12, 11, 12], coords_y=[1, 1, 4, 4, 1, 1, 4, 4], coeffs=[-1, 1, 1, -1, 1, -1, -1, 1]), position=30478)\n"
     ]
    }
   ],
   "source": [
    "print('Classifiers for round: 3')\n",
    "pickle_it(weak_classifiers_t3, 'weak_classifiers_t3')\n",
    "for wc in weak_classifiers_t3:\n",
    "    print(wc)"
   ]
  },
  {
   "cell_type": "code",
   "execution_count": 11,
   "metadata": {},
   "outputs": [
    {
     "name": "stdout",
     "output_type": "stream",
     "text": [
      "Test Image\n"
     ]
    },
    {
     "data": {
      "image/png": "[encoded data removed]",
      "text/plain": [
       "<Figure size 432x288 with 1 Axes>"
      ]
     },
     "metadata": {
      "needs_background": "light"
     },
     "output_type": "display_data"
    },
    {
     "name": "stdout",
     "output_type": "stream",
     "text": [
      "Filter on test image\n"
     ]
    },
    {
     "data": {
      "image/png": "[encoded data removed]",
      "text/plain": [
       "<Figure size 432x288 with 1 Axes>"
      ]
     },
     "metadata": {
      "needs_background": "light"
     },
     "output_type": "display_data"
    }
   ],
   "source": [
    "print_filter_image(weak_classifiers_t3[2].classifier)"
   ]
  },
  {
   "cell_type": "markdown",
   "metadata": {},
   "source": [
    "### Adaboost T=5"
   ]
  },
  {
   "cell_type": "code",
   "execution_count": 60,
   "metadata": {},
   "outputs": [
    {
     "name": "stdout",
     "output_type": "stream",
     "text": [
      "Tranining Adaboost\n",
      "Round: (1/5)\n",
      "processed: 1000 2000 3000 4000 5000 6000 7000 8000 9000 10000 11000 12000 13000 14000 15000 16000 17000 18000 19000 20000 21000 22000 23000 24000 25000 26000 27000 28000 29000 30000 31000 32000 33000 34000 35000 36000 37000 38000 39000 40000 41000 42000 43000 44000 45000 46000 47000 48000 49000 50000 51000 52000 53000 54000 55000 56000 57000 58000 59000 60000 61000 62000 63000 \n",
      "Round: (2/5)\n",
      "processed: 1000 2000 3000 4000 5000 6000 7000 8000 9000 10000 11000 12000 13000 14000 15000 16000 17000 18000 19000 20000 21000 22000 23000 24000 25000 26000 27000 28000 29000 30000 31000 32000 33000 34000 35000 36000 37000 38000 39000 40000 41000 42000 43000 44000 45000 46000 47000 48000 49000 50000 51000 52000 53000 54000 55000 56000 57000 58000 59000 60000 61000 62000 63000 \n",
      "Round: (3/5)\n",
      "processed: 1000 2000 3000 4000 5000 6000 7000 8000 9000 10000 11000 12000 13000 14000 15000 16000 17000 18000 19000 20000 21000 22000 23000 24000 25000 26000 27000 28000 29000 30000 31000 32000 33000 34000 35000 36000 37000 38000 39000 40000 41000 42000 43000 44000 45000 46000 47000 48000 49000 50000 51000 52000 53000 54000 55000 56000 57000 58000 59000 60000 61000 62000 63000 \n",
      "Round: (4/5)\n",
      "processed: 1000 2000 3000 4000 5000 6000 7000 8000 9000 10000 11000 12000 13000 14000 15000 16000 17000 18000 19000 20000 21000 22000 23000 24000 25000 26000 27000 28000 29000 30000 31000 32000 33000 34000 35000 36000 37000 38000 39000 40000 41000 42000 43000 44000 45000 46000 47000 48000 49000 50000 51000 52000 53000 54000 55000 56000 57000 58000 59000 60000 61000 62000 63000 \n",
      "Round: (5/5)\n",
      "processed: 1000 2000 3000 4000 5000 6000 7000 8000 9000 10000 11000 12000 13000 14000 15000 16000 17000 18000 19000 20000 21000 22000 23000 24000 25000 26000 27000 28000 29000 30000 31000 32000 33000 34000 35000 36000 37000 38000 39000 40000 41000 42000 43000 44000 45000 46000 47000 48000 49000 50000 51000 52000 53000 54000 55000 56000 57000 58000 59000 60000 61000 62000 63000 \n",
      "time to execute 5 round: 2553.543836 s\n"
     ]
    }
   ],
   "source": [
    "import time\n",
    "\n",
    "start_time = time.time()\n",
    "weak_classifiers_t5 = train(train_X, train_Y, 5, all_features, skip_chance=-1)\n",
    "end_time = time.time()\n",
    "print('time to execute 5 round: %f s' % (end_time - start_time))\n",
    "pickle_it(weak_classifiers_t5, 'weak_classifiers_t5')"
   ]
  },
  {
   "cell_type": "markdown",
   "metadata": {},
   "source": [
    "##### Performance"
   ]
  },
  {
   "cell_type": "code",
   "execution_count": 33,
   "metadata": {
    "scrolled": true
   },
   "outputs": [
    {
     "name": "stdout",
     "output_type": "stream",
     "text": [
      "Performance on Train Data, T=5\n",
      "Evaluation:\n",
      "accuracy: 0.908764, false positive rate: 0.076431 false negative rate: 0.014806\n",
      "\n",
      "Performance on Test Data, T=5\n",
      "Evaluation:\n",
      "accuracy: 0.841488, false positive rate: 0.016175 false negative rate: 0.142337\n"
     ]
    }
   ],
   "source": [
    "print('Performance on Train Data, T=5')\n",
    "pred_stats = test_strong_classifier(train_X, train_Y, weak_classifiers_t5)\n",
    "print('')\n",
    "print('Performance on Test Data, T=5')\n",
    "pred_stats = test_strong_classifier(test_X, test_Y, weak_classifiers_t5)"
   ]
  },
  {
   "cell_type": "code",
   "execution_count": 34,
   "metadata": {},
   "outputs": [
    {
     "name": "stdout",
     "output_type": "stream",
     "text": [
      "Classifiers for round: 5\n",
      "WeakClassifier(polarity=1, threshold=-182.0, alpha=1.6762838449232742, classifier=Feature(type='Two Vertical', x=14, y=3, width=2, height=6, coords_x=[14, 16, 14, 16, 14, 16, 14, 16], coords_y=[3, 3, 6, 6, 6, 6, 9, 9], coeffs=[1, -1, -1, 1, -1, 1, 1, -1]), position=15890)\n",
      "WeakClassifier(polarity=1, threshold=-9.0, alpha=1.1452467923505691, classifier=Feature(type='Two Vertical', x=5, y=14, width=1, height=4, coords_x=[5, 6, 5, 6, 5, 6, 5, 6], coords_y=[14, 14, 16, 16, 16, 16, 18, 18], coeffs=[1, -1, -1, 1, -1, 1, 1, -1]), position=8827)\n",
      "WeakClassifier(polarity=1, threshold=-45.0, alpha=1.1397507878072382, classifier=Feature(type='Two Horizontal', x=10, y=1, width=2, height=3, coords_x=[10, 11, 10, 11, 11, 12, 11, 12], coords_y=[1, 1, 4, 4, 1, 1, 4, 4], coeffs=[-1, 1, 1, -1, 1, -1, -1, 1]), position=30478)\n",
      "WeakClassifier(polarity=1, threshold=-48.0, alpha=1.0287179804958346, classifier=Feature(type='Two Vertical', x=7, y=11, width=6, height=2, coords_x=[7, 13, 7, 13, 7, 13, 7, 13], coords_y=[11, 11, 12, 12, 12, 12, 13, 13], coeffs=[1, -1, -1, 1, -1, 1, 1, -1]), position=10988)\n",
      "WeakClassifier(polarity=1, threshold=-10.0, alpha=0.9920300510213081, classifier=Feature(type='Two Horizontal', x=5, y=7, width=2, height=2, coords_x=[5, 6, 5, 6, 6, 7, 6, 7], coords_y=[7, 7, 9, 9, 7, 7, 9, 9], coeffs=[-1, 1, 1, -1, 1, -1, -1, 1]), position=25675)\n"
     ]
    }
   ],
   "source": [
    "print('Classifiers for round: 5')\n",
    "pickle_it(weak_classifiers_t5, 'weak_classifiers_t5')\n",
    "for i,wc in enumerate(weak_classifiers_t5):\n",
    "    print(wc)"
   ]
  },
  {
   "cell_type": "code",
   "execution_count": 17,
   "metadata": {},
   "outputs": [
    {
     "name": "stdout",
     "output_type": "stream",
     "text": [
      "Test Image\n"
     ]
    },
    {
     "data": {
      "image/png": "[encoded data removed]",
      "text/plain": [
       "<Figure size 432x288 with 1 Axes>"
      ]
     },
     "metadata": {
      "needs_background": "light"
     },
     "output_type": "display_data"
    },
    {
     "name": "stdout",
     "output_type": "stream",
     "text": [
      "Filter on test image\n"
     ]
    },
    {
     "data": {
      "image/png": "[encoded data removed]",
      "text/plain": [
       "<Figure size 432x288 with 1 Axes>"
      ]
     },
     "metadata": {
      "needs_background": "light"
     },
     "output_type": "display_data"
    }
   ],
   "source": [
    "print_filter_image(weak_classifiers_t5[3].classifier)"
   ]
  },
  {
   "cell_type": "markdown",
   "metadata": {},
   "source": [
    "### Adaboost T=10"
   ]
  },
  {
   "cell_type": "code",
   "execution_count": 61,
   "metadata": {
    "scrolled": true
   },
   "outputs": [
    {
     "name": "stdout",
     "output_type": "stream",
     "text": [
      "Tranining Adaboost\n",
      "Round: (1/10)\n",
      "processed: 1000 2000 3000 4000 5000 6000 7000 8000 9000 10000 11000 12000 13000 14000 15000 16000 17000 18000 19000 20000 21000 22000 23000 24000 25000 26000 27000 28000 29000 30000 31000 32000 33000 34000 35000 36000 37000 38000 39000 40000 41000 42000 43000 44000 45000 46000 47000 48000 49000 50000 51000 52000 53000 54000 55000 56000 57000 58000 59000 60000 61000 62000 63000 \n",
      "Round: (2/10)\n",
      "processed: 1000 2000 3000 4000 5000 6000 7000 8000 9000 10000 11000 12000 13000 14000 15000 16000 17000 18000 19000 20000 21000 22000 23000 24000 25000 26000 27000 28000 29000 30000 31000 32000 33000 34000 35000 36000 37000 38000 39000 40000 41000 42000 43000 44000 45000 46000 47000 48000 49000 50000 51000 52000 53000 54000 55000 56000 57000 58000 59000 60000 61000 62000 63000 \n",
      "Round: (3/10)\n",
      "processed: 1000 2000 3000 4000 5000 6000 7000 8000 9000 10000 11000 12000 13000 14000 15000 16000 17000 18000 19000 20000 21000 22000 23000 24000 25000 26000 27000 28000 29000 30000 31000 32000 33000 34000 35000 36000 37000 38000 39000 40000 41000 42000 43000 44000 45000 46000 47000 48000 49000 50000 51000 52000 53000 54000 55000 56000 57000 58000 59000 60000 61000 62000 63000 \n",
      "Round: (4/10)\n",
      "processed: 1000 2000 3000 4000 5000 6000 7000 8000 9000 10000 11000 12000 13000 14000 15000 16000 17000 18000 19000 20000 21000 22000 23000 24000 25000 26000 27000 28000 29000 30000 31000 32000 33000 34000 35000 36000 37000 38000 39000 40000 41000 42000 43000 44000 45000 46000 47000 48000 49000 50000 51000 52000 53000 54000 55000 56000 57000 58000 59000 60000 61000 62000 63000 \n",
      "Round: (5/10)\n",
      "processed: 1000 2000 3000 4000 5000 6000 7000 8000 9000 10000 11000 12000 13000 14000 15000 16000 17000 18000 19000 20000 21000 22000 23000 24000 25000 26000 27000 28000 29000 30000 31000 32000 33000 34000 35000 36000 37000 38000 39000 40000 41000 42000 43000 44000 45000 46000 47000 48000 49000 50000 51000 52000 53000 54000 55000 56000 57000 58000 59000 60000 61000 62000 63000 \n",
      "Round: (6/10)\n",
      "processed: 1000 2000 3000 4000 5000 6000 7000 8000 9000 10000 11000 12000 13000 14000 15000 16000 17000 18000 19000 20000 21000 22000 23000 24000 25000 26000 27000 28000 29000 30000 31000 32000 33000 34000 35000 36000 37000 38000 39000 40000 41000 42000 43000 44000 45000 46000 47000 48000 49000 50000 51000 52000 53000 54000 55000 56000 57000 58000 59000 60000 61000 62000 63000 \n",
      "Round: (7/10)\n",
      "processed: 1000 2000 3000 4000 5000 6000 7000 8000 9000 10000 11000 12000 13000 14000 15000 16000 17000 18000 19000 20000 21000 22000 23000 24000 25000 26000 27000 28000 29000 30000 31000 32000 33000 34000 35000 36000 37000 38000 39000 40000 41000 42000 43000 44000 45000 46000 47000 48000 49000 50000 51000 52000 53000 54000 55000 56000 57000 58000 59000 60000 61000 62000 63000 \n",
      "Round: (8/10)\n",
      "processed: 1000 2000 3000 4000 5000 6000 7000 8000 9000 10000 11000 12000 13000 14000 15000 16000 17000 18000 19000 20000 21000 22000 23000 24000 25000 26000 27000 28000 29000 30000 31000 32000 33000 34000 35000 36000 37000 38000 39000 40000 41000 42000 43000 44000 45000 46000 47000 48000 49000 50000 51000 52000 53000 54000 55000 56000 57000 58000 59000 60000 61000 62000 63000 \n",
      "Round: (9/10)\n",
      "processed: 1000 2000 3000 4000 5000 6000 7000 8000 9000 10000 11000 12000 13000 14000 15000 16000 17000 18000 19000 20000 21000 22000 23000 24000 25000 26000 27000 28000 29000 30000 31000 32000 33000 34000 35000 36000 37000 38000 39000 40000 41000 42000 43000 44000 45000 46000 47000 48000 49000 50000 51000 52000 53000 54000 55000 56000 57000 58000 59000 60000 61000 62000 63000 \n",
      "Round: (10/10)\n",
      "processed: 1000 2000 3000 4000 5000 6000 7000 8000 9000 10000 11000 12000 13000 14000 15000 16000 17000 18000 19000 20000 21000 22000 23000 24000 25000 26000 27000 28000 29000 30000 31000 32000 33000 34000 35000 36000 37000 38000 39000 40000 41000 42000 43000 44000 45000 46000 47000 48000 49000 50000 51000 52000 53000 54000 55000 56000 57000 58000 59000 60000 61000 62000 63000 \n",
      "time to execute 10 round: 5096.963266 s\n"
     ]
    }
   ],
   "source": [
    "import time\n",
    "\n",
    "start_time = time.time()\n",
    "weak_classifiers_t10 = train(train_X, train_Y, 10, all_features, skip_chance=-1)\n",
    "end_time = time.time()\n",
    "print('time to execute 10 round: %f s' % (end_time - start_time))\n",
    "pickle_it(weak_classifiers_t10, 'weak_classifiers_t10')"
   ]
  },
  {
   "cell_type": "markdown",
   "metadata": {},
   "source": [
    "##### Performance"
   ]
  },
  {
   "cell_type": "code",
   "execution_count": 26,
   "metadata": {},
   "outputs": [
    {
     "name": "stdout",
     "output_type": "stream",
     "text": [
      "Performance on Train Data, T=10\n",
      "Evaluation:\n",
      "accuracy: 0.936375, false positive rate: 0.051220 false negative rate: 0.012405\n",
      "\n",
      "Performance on Test Data, T=10\n",
      "Evaluation:\n",
      "accuracy: 0.837849, false positive rate: 0.014153 false negative rate: 0.147998\n"
     ]
    }
   ],
   "source": [
    "print('Performance on Train Data, T=10')\n",
    "pred_stats = test_strong_classifier(train_X, train_Y, weak_classifiers_t10)\n",
    "print('')\n",
    "print('Performance on Test Data, T=10')\n",
    "pred_stats = test_strong_classifier(test_X, test_Y, weak_classifiers_t10)"
   ]
  },
  {
   "cell_type": "code",
   "execution_count": 35,
   "metadata": {
    "scrolled": true
   },
   "outputs": [
    {
     "name": "stdout",
     "output_type": "stream",
     "text": [
      "Classifiers for round: 10\n",
      "WeakClassifier(polarity=1, threshold=-182.0, alpha=1.6762838449232742, classifier=Feature(type='Two Vertical', x=14, y=3, width=2, height=6, coords_x=[14, 16, 14, 16, 14, 16, 14, 16], coords_y=[3, 3, 6, 6, 6, 6, 9, 9], coeffs=[1, -1, -1, 1, -1, 1, 1, -1]), position=15890)\n",
      "WeakClassifier(polarity=1, threshold=-9.0, alpha=1.1452467923505691, classifier=Feature(type='Two Vertical', x=5, y=14, width=1, height=4, coords_x=[5, 6, 5, 6, 5, 6, 5, 6], coords_y=[14, 14, 16, 16, 16, 16, 18, 18], coeffs=[1, -1, -1, 1, -1, 1, 1, -1]), position=8827)\n",
      "WeakClassifier(polarity=1, threshold=-45.0, alpha=1.1397507878072382, classifier=Feature(type='Two Horizontal', x=10, y=1, width=2, height=3, coords_x=[10, 11, 10, 11, 11, 12, 11, 12], coords_y=[1, 1, 4, 4, 1, 1, 4, 4], coeffs=[-1, 1, 1, -1, 1, -1, -1, 1]), position=30478)\n",
      "WeakClassifier(polarity=1, threshold=-48.0, alpha=1.0287179804958346, classifier=Feature(type='Two Vertical', x=7, y=11, width=6, height=2, coords_x=[7, 13, 7, 13, 7, 13, 7, 13], coords_y=[11, 11, 12, 12, 12, 12, 13, 13], coeffs=[1, -1, -1, 1, -1, 1, 1, -1]), position=10988)\n",
      "WeakClassifier(polarity=1, threshold=-10.0, alpha=0.9920300510213081, classifier=Feature(type='Two Horizontal', x=5, y=7, width=2, height=2, coords_x=[5, 6, 5, 6, 6, 7, 6, 7], coords_y=[7, 7, 9, 9, 7, 7, 9, 9], coeffs=[-1, 1, 1, -1, 1, -1, -1, 1]), position=25675)\n",
      "WeakClassifier(polarity=1, threshold=-134.0, alpha=0.7505856811858651, classifier=Feature(type='Two Vertical', x=5, y=15, width=12, height=2, coords_x=[5, 17, 5, 17, 5, 17, 5, 17], coords_y=[15, 15, 16, 16, 16, 16, 17, 17], coeffs=[1, -1, -1, 1, -1, 1, 1, -1]), position=8876)\n",
      "WeakClassifier(polarity=1, threshold=-24.0, alpha=0.5465409468795562, classifier=Feature(type='Two Vertical', x=1, y=5, width=3, height=2, coords_x=[1, 4, 1, 4, 1, 4, 1, 4], coords_y=[5, 5, 6, 6, 6, 6, 7, 7], coeffs=[1, -1, -1, 1, -1, 1, 1, -1]), position=2462)\n",
      "WeakClassifier(polarity=1, threshold=-53.0, alpha=0.4914732325681178, classifier=Feature(type='Four', x=13, y=0, width=6, height=2, coords_x=[13, 16, 13, 16, 16, 19, 16, 19, 13, 16, 13, 16, 16, 19, 16, 19], coords_y=[0, 0, 1, 1, 0, 0, 1, 1, 1, 1, 2, 2, 1, 1, 2, 2], coeffs=[-1, 1, 1, -1, 1, -1, -1, 1, 1, -1, -1, 1, -1, 1, 1, -1]), position=63168)\n",
      "WeakClassifier(polarity=1, threshold=-108.0, alpha=0.33511430874094933, classifier=Feature(type='Four', x=10, y=3, width=2, height=14, coords_x=[10, 11, 10, 11, 11, 12, 11, 12, 10, 11, 10, 11, 11, 12, 11, 12], coords_y=[3, 3, 10, 10, 3, 3, 10, 10, 10, 10, 17, 17, 10, 10, 17, 17], coeffs=[-1, 1, 1, -1, 1, -1, -1, 1, 1, -1, -1, 1, -1, 1, 1, -1]), position=62270)\n",
      "WeakClassifier(polarity=1, threshold=-2.0, alpha=0.23345917316461537, classifier=Feature(type='Two Vertical', x=18, y=5, width=1, height=2, coords_x=[18, 19, 18, 19, 18, 19, 18, 19], coords_y=[5, 5, 6, 6, 6, 6, 7, 7], coeffs=[1, -1, -1, 1, -1, 1, 1, -1]), position=17051)\n"
     ]
    }
   ],
   "source": [
    "print('Classifiers for round: 10')\n",
    "pickle_it(weak_classifiers_t10, 'weak_classifiers_t10')\n",
    "for i,wc in enumerate(weak_classifiers_t10):\n",
    "    print(wc)"
   ]
  },
  {
   "cell_type": "code",
   "execution_count": 21,
   "metadata": {},
   "outputs": [
    {
     "name": "stdout",
     "output_type": "stream",
     "text": [
      "Test Image\n"
     ]
    },
    {
     "data": {
      "image/png": "[encoded data removed]",
      "text/plain": [
       "<Figure size 432x288 with 1 Axes>"
      ]
     },
     "metadata": {
      "needs_background": "light"
     },
     "output_type": "display_data"
    },
    {
     "name": "stdout",
     "output_type": "stream",
     "text": [
      "Filter on test image\n"
     ]
    },
    {
     "data": {
      "image/png": "[encoded data removed]",
      "text/plain": [
       "<Figure size 432x288 with 1 Axes>"
      ]
     },
     "metadata": {
      "needs_background": "light"
     },
     "output_type": "display_data"
    }
   ],
   "source": [
    "print_filter_image(weak_classifiers_t10[7].classifier)"
   ]
  },
  {
   "cell_type": "markdown",
   "metadata": {},
   "source": [
    "#### Train\n",
    "Run all 3 blocks in this subsection"
   ]
  },
  {
   "cell_type": "code",
   "execution_count": 61,
   "metadata": {},
   "outputs": [],
   "source": [
    "from collections import namedtuple\n",
    "import sys\n",
    "\n",
    "ClassifierResult = namedtuple('ClassifierResult', 'feature position polarity threshold classification_error')\n",
    "WeakClassifier = namedtuple('WeakClassifier', 'polarity threshold alpha classifier position')\n",
    "\n",
    "'''\n",
    "T: Number of rounds of Adaboost\n",
    "'''\n",
    "def train(train_X, train_Y, T, features, weights =None, skip_chance =0.50):\n",
    "    print('Tranining Adaboost')\n",
    "    if weights is None:\n",
    "        # first round of Adaboost\n",
    "        faces = len(train_Y[train_Y > 0.5])\n",
    "        non_faces = len(train_Y[train_Y < 0.5])\n",
    "\n",
    "        weights = np.zeros(train_Y.shape)\n",
    "        weights[train_Y > 0.5] = 1.0/(2*faces)\n",
    "        weights[train_Y < 0.5] = 1.0/(2*non_faces)\n",
    "\n",
    "    weak_classifiers = []\n",
    "    for t in range(T):\n",
    "        print('Round: (%d/%d)' % (t+1, T))\n",
    "        weights = weights / weights.sum()\n",
    "        # best weak classifier for this round\n",
    "        best = ClassifierResult(feature=None, position=0, polarity=0, threshold=0, classification_error=float('inf'))\n",
    "        processed = 1\n",
    "        print('processed:', end=' ')\n",
    "        for i,f in enumerate(features):\n",
    "            if np.random.random() < skip_chance:\n",
    "                continue\n",
    "            result = apply_feature(f, i, train_X[:,i], train_Y, weights)\n",
    "            if result.classification_error < best.classification_error:\n",
    "                    best = result\n",
    "                    \n",
    "            processed += 1\n",
    "            if processed % 1000 == 0:\n",
    "                print(processed, end=' ')\n",
    "        print('')\n",
    "        # After the best classifier was found, determine alpha\n",
    "        # add some value to classification error to avoid divide by zero\n",
    "        try:\n",
    "            beta = best.classification_error / (1 - best.classification_error)\n",
    "            alpha = np.log((1. / best.classification_error) - 1.)\n",
    "        except AttributeError as e:\n",
    "            print('Best.classification_error: %s\\n%s' % (best.classification_error,e))\n",
    "            sys.exit(0)\n",
    "        \n",
    "        # Build the weak classifier\n",
    "        classifier = WeakClassifier(threshold=best.threshold, polarity=best.polarity, classifier=best.feature, position=best.position, alpha=alpha)\n",
    "        \n",
    "        # Update the weights for misclassified examples\n",
    "        for i, (fx, y) in enumerate(zip(train_X[:,classifier.position], train_Y)):\n",
    "            h = weak_classifier(fx, classifier.polarity, classifier.threshold)\n",
    "            e = np.abs(h - y)\n",
    "            weights[i] = weights[i] * np.power(beta, 1-e)\n",
    "            \n",
    "        # Register this weak classifier           \n",
    "        weak_classifiers.append(classifier)\n",
    "        \n",
    "    return weak_classifiers"
   ]
  },
  {
   "cell_type": "code",
   "execution_count": 107,
   "metadata": {},
   "outputs": [],
   "source": [
    "# train_fX corresponds to values of this 'feature'\n",
    "def apply_feature(feature, position, train_fX, train_Y, weights):\n",
    "    threshold, polarity = determine_threshold_polarity(train_fX, train_Y, weights)\n",
    "    \n",
    "    # Determine the classification error\n",
    "    H = np_weak_classifier(train_fX, polarity, threshold)\n",
    "    '''\n",
    "    labels: \n",
    "    1 -> false positive\n",
    "    0 -> true positive or true negative, predicted == true\n",
    "    -1 -> false negative\n",
    "    '''\n",
    "    labels = H - train_Y\n",
    "    error = np.sum(weights[labels==1]) + np.sum(weights[labels==-1])\n",
    "            \n",
    "    return ClassifierResult(threshold=threshold, polarity=polarity, \n",
    "                            classification_error=error, feature=feature, position=position)\n",
    "    \n",
    "def determine_threshold_polarity(train_fX, train_Y, weights):  \n",
    "    # Sort according to score\n",
    "    p = np.argsort(train_fX)\n",
    "    tain_fX, tain_Y, weights = train_fX[p], train_Y[p], weights[p]\n",
    "    \n",
    "    # Determine the best threshold: build running sums\n",
    "    t_minus, t_plus, s_minuses, s_pluses = build_running_sums(train_Y, weights)\n",
    "    \n",
    "    # Determine the best threshold: select optimal threshold.\n",
    "    return find_best_threshold(train_fX, t_minus, t_plus, s_minuses, s_pluses)\n",
    "\n",
    "def build_running_sums(train_Y, weights):\n",
    "    s_minus, s_plus = 0., 0.\n",
    "    t_minus, t_plus = 0., 0.\n",
    "    s_minuses, s_pluses = [], []\n",
    "    \n",
    "    for y, w in zip(train_Y, weights):\n",
    "        if y < .5:\n",
    "            s_minus += w\n",
    "            t_minus += w\n",
    "        else:\n",
    "            s_plus += w\n",
    "            t_plus += w\n",
    "        s_minuses.append(s_minus)\n",
    "        s_pluses.append(s_plus)\n",
    "    return t_minus, t_plus, s_minuses, s_pluses\n",
    "\n",
    "def find_best_threshold(train_fX, t_minus, t_plus, s_minuses, s_pluses):\n",
    "    min_e = float('inf')\n",
    "    threshold, polarity = 0, 0\n",
    "    for fx, s_m, s_p in zip(train_fX, s_minuses, s_pluses):\n",
    "        error_1 = s_p + (t_minus - s_m)\n",
    "        error_2 = s_m + (t_plus - s_p)\n",
    "        if error_1 < min_e:\n",
    "            min_e = error_1\n",
    "            threshold = fx\n",
    "            polarity = -1\n",
    "        elif error_2 < min_e:\n",
    "            min_e = error_2\n",
    "            threshold = fx\n",
    "            polarity = 1\n",
    "    return threshold, polarity\n",
    "\n",
    "def weak_classifier(fx, polarity, threshold):\n",
    "    return 1 if polarity*fx < polarity*threshold else 0\n",
    "\n",
    "def np_weak_classifier(train_fX, polarity, threshold):\n",
    "    return (np.sign((polarity * threshold) - (polarity * train_fX)) + 1)//2\n",
    "\n",
    "def np_strong_classifier(train_X, weak_classifiers):\n",
    "    num_samples = train_X.shape[0]\n",
    "    sum_hypothesis = np.zeros(num_samples)\n",
    "    sum_alphas = np.zeros(num_samples)\n",
    "    for c in weak_classifiers:\n",
    "        sum_hypothesis += c.alpha * np_weak_classifier(train_X[:, c.position], c.polarity, c.threshold)\n",
    "        sum_alphas += c.alpha\n",
    "        \n",
    "    return (np.sign(sum_hypothesis - 0.5*sum_alphas) + 1)//2"
   ]
  },
  {
   "cell_type": "code",
   "execution_count": 23,
   "metadata": {},
   "outputs": [],
   "source": [
    "import pickle\n",
    "\n",
    "def pickle_it(data, filename):\n",
    "    pickle_file = open(filename,'wb')\n",
    "    pickle.dump(data,pickle_file)\n",
    "    pickle_file.close()\n",
    "\n",
    "def unpickle_it(filename):\n",
    "    pickle_file = open(filename,'rb')\n",
    "    data = pickle.load(pickle_file)\n",
    "    pickle_file.close()\n",
    "    return data"
   ]
  },
  {
   "cell_type": "markdown",
   "metadata": {},
   "source": [
    "#### Test"
   ]
  },
  {
   "cell_type": "code",
   "execution_count": 24,
   "metadata": {},
   "outputs": [],
   "source": [
    "from sklearn.metrics import confusion_matrix\n",
    "from sklearn.metrics import accuracy_score\n",
    "\n",
    "PredictionStats = namedtuple('PredictionStats', 'accuracy fp_rate fn_rate')\n",
    "\n",
    "def test_weak_classifier(test_X, test_Y, w_classifier):\n",
    "    pred_Y = np.array([weak_classifier(fx, w_classifier.polarity, w_classifier.threshold) for fx in test_X[:,w_classifier.position]])\n",
    "    cm = confusion_matrix(test_Y, pred_Y)\n",
    "    tn, fp, fn, tp = cm.ravel()\n",
    "    num_samples = test_Y.shape[0]\n",
    "    false_positive_rate = (fp*1.0)/num_samples\n",
    "    false_negative_rate = (fn*1.0)/num_samples\n",
    "    accuracy = accuracy_score(test_Y, pred_Y)\n",
    "    print('Evaluation:\\naccuracy: %f, false positive rate: %f false negative rate: %f' % (accuracy, false_positive_rate, false_negative_rate))\n",
    "    return PredictionStats(accuracy, false_positive_rate, false_negative_rate)\n",
    "\n",
    "def test_strong_classifier(test_X, test_Y, weak_classifiers):\n",
    "    pred_Y = np_strong_classifier(test_X, weak_classifiers)\n",
    "    cm = confusion_matrix(test_Y, pred_Y)\n",
    "    tn, fp, fn, tp = cm.ravel()\n",
    "    num_samples = test_Y.shape[0]\n",
    "    false_positive_rate = (fp*1.0)/num_samples\n",
    "    false_negative_rate = (fn*1.0)/num_samples\n",
    "    accuracy = accuracy_score(test_Y, pred_Y)\n",
    "    print('Evaluation:\\naccuracy: %f, false positive rate: %f false negative rate: %f' % (accuracy, false_positive_rate, false_negative_rate))\n",
    "    return PredictionStats(accuracy, false_positive_rate, false_negative_rate)"
   ]
  },
  {
   "cell_type": "markdown",
   "metadata": {},
   "source": [
    "##### Print Image"
   ]
  },
  {
   "cell_type": "code",
   "execution_count": 24,
   "metadata": {},
   "outputs": [],
   "source": [
    "import numpy as np\n",
    "from PIL import Image\n",
    "import matplotlib.pyplot as plt\n",
    "%matplotlib inline\n",
    "\n",
    "# pim_classifier = Feature(type='Two Vertical', x=14, y=3, width=2, height=6, coords_x=[14, 16, 14, 16, 14, 16, 14, 16], coords_y=[3, 3, 6, 6, 6, 6, 9, 9], coeffs=[1, -1, -1, 1, -1, 1, 1, -1])\n",
    "\n",
    "def print_filter_image(classifier):\n",
    "    coords_x = classifier.coords_x\n",
    "    coords_y = classifier.coords_y\n",
    "    coeffs = classifier.coeffs\n",
    "    im = Image.open('dataset/trainset/faces/face00001.png')\n",
    "    np_im = np.array(im)\n",
    "    print('Test Image')\n",
    "    im = Image.fromarray(np_im).resize((100, 100))\n",
    "    plt.imshow(im, cmap='gray')\n",
    "    plt.show()\n",
    "    \n",
    "    filtered_im = np_im.copy()\n",
    "    i=0\n",
    "    while i < len(coeffs):\n",
    "        if coeffs[i:i+4] == [1, -1, -1, 1]:\n",
    "            filtered_im = paint_it(filtered_im, coords_x[i:i+4], coords_y[i:i+4], gray=True)\n",
    "        else:\n",
    "            filtered_im = paint_it(filtered_im, coords_x[i:i+4], coords_y[i:i+4], gray=False)\n",
    "        i = i+4\n",
    "    print('Filter on test image')\n",
    "    filtered_im = Image.fromarray(filtered_im).resize((100, 100))\n",
    "    plt.imshow(filtered_im, cmap='gray')\n",
    "    plt.show()\n",
    "    \n",
    "'''\n",
    "Rectangle as represented in coords_x, coords_y\n",
    "        width\n",
    "       0----1\n",
    "       |    |\n",
    "height |    |\n",
    "       2----3\n",
    "'''\n",
    "def paint_it(np_im, coords_x, coords_y, gray=True):\n",
    "    # height = coords_y[2] - coords_y[0]\n",
    "    color = 0 if gray else 255\n",
    "    np_im[coords_y[0]:coords_y[2]+1, coords_x[0]:coords_x[1]+1,] = color\n",
    "    return np_im\n"
   ]
  },
  {
   "cell_type": "markdown",
   "metadata": {},
   "source": [
    "## 2.3 (30 Points) Adjust the thresholds"
   ]
  },
  {
   "cell_type": "markdown",
   "metadata": {},
   "source": [
    "### Criterion: False Positive"
   ]
  },
  {
   "cell_type": "markdown",
   "metadata": {},
   "source": [
    "Run **Train** blocks before executing below code."
   ]
  },
  {
   "cell_type": "code",
   "execution_count": 69,
   "metadata": {},
   "outputs": [
    {
     "name": "stdout",
     "output_type": "stream",
     "text": [
      "Tranining Adaboost\n",
      "Round: (1/5)\n",
      "processed: 1000 2000 3000 4000 5000 6000 7000 8000 9000 10000 11000 12000 13000 14000 15000 16000 17000 18000 19000 20000 21000 22000 23000 24000 25000 26000 27000 28000 29000 30000 31000 \n",
      "Round: (2/5)\n",
      "processed: 1000 2000 3000 4000 5000 6000 7000 8000 9000 10000 11000 12000 13000 14000 15000 16000 17000 18000 19000 20000 21000 22000 23000 24000 25000 26000 27000 28000 29000 30000 31000 \n",
      "Round: (3/5)\n",
      "processed: 1000 2000 3000 4000 5000 6000 7000 8000 9000 10000 11000 12000 13000 14000 15000 16000 17000 18000 19000 20000 21000 22000 23000 24000 25000 26000 27000 28000 29000 30000 31000 32000 \n",
      "Round: (4/5)\n",
      "processed: 1000 2000 3000 4000 5000 6000 7000 8000 9000 10000 11000 12000 13000 14000 15000 16000 17000 18000 19000 20000 21000 22000 23000 24000 25000 26000 27000 28000 29000 30000 31000 32000 \n",
      "Round: (5/5)\n",
      "processed: 1000 2000 3000 4000 5000 6000 7000 8000 9000 10000 11000 12000 13000 14000 15000 16000 17000 18000 19000 20000 21000 22000 23000 24000 25000 26000 27000 28000 29000 30000 31000 32000 \n",
      "time to execute 5 round: 472.768536 s\n"
     ]
    }
   ],
   "source": [
    "import time\n",
    "import numpy as np\n",
    "\n",
    "# train_X = np.load('train-X', allow_pickle=True)\n",
    "# train_Y = np.load('train-Y', allow_pickle=True)\n",
    "# test_X = np.load('test-X', allow_pickle=True)\n",
    "# test_Y = np.load('test-Y', allow_pickle=True)\n",
    "\n",
    "start_time = time.time()\n",
    "weak_classifiers_t5 = train(train_X, train_Y, 5, all_features)\n",
    "end_time = time.time()\n",
    "print('time to execute 5 round: %f s' % (end_time - start_time))"
   ]
  },
  {
   "cell_type": "code",
   "execution_count": 78,
   "metadata": {},
   "outputs": [
    {
     "name": "stdout",
     "output_type": "stream",
     "text": [
      "Performance on Train Data, T=5\n",
      "Evaluation:\n",
      "accuracy: 0.921168, false positive rate: 0.032013 false negative rate: 0.046819\n",
      "\n",
      "Performance on Test Data, T=5\n",
      "Evaluation:\n",
      "accuracy: 0.818035, false positive rate: 0.007683 false negative rate: 0.174282\n"
     ]
    }
   ],
   "source": [
    "print('Performance on Train Data, T=5')\n",
    "pred_stats = test_strong_classifier(train_X, train_Y, weak_classifiers_t5)\n",
    "print('')\n",
    "print('Performance on Test Data, T=5')\n",
    "pred_stats = test_strong_classifier(test_X, test_Y, weak_classifiers_t5)"
   ]
  },
  {
   "cell_type": "code",
   "execution_count": 79,
   "metadata": {},
   "outputs": [
    {
     "name": "stdout",
     "output_type": "stream",
     "text": [
      "Classifiers for round: 5\n",
      "WeakClassifier(polarity=1, threshold=-122.0, alpha=1.5361325177594782, classifier=Feature(type='Two Vertical', x=5, y=15, width=11, height=2, coords_x=[5, 16, 5, 16, 5, 16, 5, 16], coords_y=[15, 15, 16, 16, 16, 16, 17, 17], coeffs=[1, -1, -1, 1, -1, 1, 1, -1]), position=8874)\n",
      "WeakClassifier(polarity=1, threshold=-544.0, alpha=1.5782646249141685, classifier=Feature(type='Two Vertical', x=13, y=3, width=5, height=6, coords_x=[13, 18, 13, 18, 13, 18, 13, 18], coords_y=[3, 3, 6, 6, 6, 6, 9, 9], coeffs=[1, -1, -1, 1, -1, 1, 1, -1]), position=15400)\n",
      "WeakClassifier(polarity=1, threshold=-21.0, alpha=1.4236621818994253, classifier=Feature(type='Two Horizontal', x=5, y=6, width=2, height=3, coords_x=[5, 6, 5, 6, 6, 7, 6, 7], coords_y=[6, 6, 9, 9, 6, 6, 9, 9], coeffs=[-1, 1, 1, -1, 1, -1, -1, 1]), position=25585)\n",
      "WeakClassifier(polarity=1, threshold=-175.0, alpha=1.4345641091513004, classifier=Feature(type='Four', x=10, y=3, width=2, height=16, coords_x=[10, 11, 10, 11, 11, 12, 11, 12, 10, 11, 10, 11, 11, 12, 11, 12], coords_y=[3, 3, 11, 11, 3, 3, 11, 11, 11, 11, 19, 19, 11, 11, 19, 19], coeffs=[-1, 1, 1, -1, 1, -1, -1, 1, 1, -1, -1, 1, -1, 1, 1, -1]), position=62271)\n",
      "WeakClassifier(polarity=1, threshold=-10.0, alpha=1.4082044944313843, classifier=Feature(type='Two Vertical', x=10, y=11, width=2, height=2, coords_x=[10, 12, 10, 12, 10, 12, 10, 12], coords_y=[11, 11, 12, 12, 12, 12, 13, 13], coeffs=[1, -1, -1, 1, -1, 1, 1, -1]), position=13720)\n"
     ]
    }
   ],
   "source": [
    "print('Classifiers for round: 5')\n",
    "pickle_it(weak_classifiers_t5, 'fp_weak_classifiers_t5')\n",
    "for i,wc in enumerate(weak_classifiers_t5):\n",
    "    print(wc)"
   ]
  },
  {
   "cell_type": "markdown",
   "metadata": {},
   "source": [
    "##### Train"
   ]
  },
  {
   "cell_type": "code",
   "execution_count": 68,
   "metadata": {},
   "outputs": [],
   "source": [
    "# train_fX corresponds to values of this 'feature'\n",
    "def apply_feature(feature, position, train_fX, train_Y, weights):\n",
    "    threshold, polarity = determine_threshold_polarity(train_fX, train_Y, weights)\n",
    "    \n",
    "    # Determine the classification error, more sensitive to false positives\n",
    "    H = np_weak_classifier(train_fX, polarity, threshold)\n",
    "    '''\n",
    "    labels: \n",
    "    1 -> false positive\n",
    "    0 -> true positive or true negative, predicted == true\n",
    "    -1 -> false negative\n",
    "    '''\n",
    "    labels = H - train_Y\n",
    "    fp_err = np.sum(weights[labels==1])\n",
    "    fn_err = np.sum(weights[labels==-1])\n",
    "    error = 0.8*fp_err + 0.2*fn_err\n",
    "            \n",
    "    return ClassifierResult(threshold=threshold, polarity=polarity, \n",
    "                            classification_error=error+0.1, feature=feature, position=position)"
   ]
  },
  {
   "cell_type": "markdown",
   "metadata": {},
   "source": [
    "### Criterion: False Negative"
   ]
  },
  {
   "cell_type": "markdown",
   "metadata": {},
   "source": [
    "Run **Train** blocks before executing below code."
   ]
  },
  {
   "cell_type": "code",
   "execution_count": 73,
   "metadata": {},
   "outputs": [
    {
     "name": "stdout",
     "output_type": "stream",
     "text": [
      "Tranining Adaboost\n",
      "Round: (1/5)\n",
      "processed: 1000 2000 3000 4000 5000 6000 7000 8000 9000 10000 11000 12000 13000 14000 15000 16000 17000 18000 19000 20000 21000 22000 23000 24000 25000 26000 27000 28000 29000 30000 31000 32000 \n",
      "Round: (2/5)\n",
      "processed: 1000 2000 3000 4000 5000 6000 7000 8000 9000 10000 11000 12000 13000 14000 15000 16000 17000 18000 19000 20000 21000 22000 23000 24000 25000 26000 27000 28000 29000 30000 31000 \n",
      "Round: (3/5)\n",
      "processed: 1000 2000 3000 4000 5000 6000 7000 8000 9000 10000 11000 12000 13000 14000 15000 16000 17000 18000 19000 20000 21000 22000 23000 24000 25000 26000 27000 28000 29000 30000 31000 \n",
      "Round: (4/5)\n",
      "processed: 1000 2000 3000 4000 5000 6000 7000 8000 9000 10000 11000 12000 13000 14000 15000 16000 17000 18000 19000 20000 21000 22000 23000 24000 25000 26000 27000 28000 29000 30000 31000 \n",
      "Round: (5/5)\n",
      "processed: 1000 2000 3000 4000 5000 6000 7000 8000 9000 10000 11000 12000 13000 14000 15000 16000 17000 18000 19000 20000 21000 22000 23000 24000 25000 26000 27000 28000 29000 30000 31000 32000 \n",
      "time to execute 5 round: 470.533396 s\n"
     ]
    }
   ],
   "source": [
    "import time\n",
    "import numpy as np\n",
    "\n",
    "start_time = time.time()\n",
    "weak_classifiers_t5 = train(train_X, train_Y, 5, all_features)\n",
    "end_time = time.time()\n",
    "print('time to execute 5 round: %f s' % (end_time - start_time))"
   ]
  },
  {
   "cell_type": "code",
   "execution_count": 74,
   "metadata": {},
   "outputs": [
    {
     "name": "stdout",
     "output_type": "stream",
     "text": [
      "Performance on Train Data, T=5\n",
      "Evaluation:\n",
      "accuracy: 0.869548, false positive rate: 0.121248 false negative rate: 0.009204\n",
      "\n",
      "Performance on Test Data, T=5\n",
      "Evaluation:\n",
      "accuracy: 0.855237, false positive rate: 0.028710 false negative rate: 0.116053\n"
     ]
    }
   ],
   "source": [
    "print('Performance on Train Data, T=5')\n",
    "pred_stats = test_strong_classifier(train_X, train_Y, weak_classifiers_t5)\n",
    "print('')\n",
    "print('Performance on Test Data, T=5')\n",
    "pred_stats = test_strong_classifier(test_X, test_Y, weak_classifiers_t5)"
   ]
  },
  {
   "cell_type": "code",
   "execution_count": 76,
   "metadata": {},
   "outputs": [
    {
     "name": "stdout",
     "output_type": "stream",
     "text": [
      "Classifiers for round: 5\n",
      "WeakClassifier(polarity=1, threshold=-123.0, alpha=1.6810649078663096, classifier=Feature(type='Two Vertical', x=14, y=4, width=4, height=4, coords_x=[14, 18, 14, 18, 14, 18, 14, 18], coords_y=[4, 4, 6, 6, 6, 6, 8, 8], coeffs=[1, -1, -1, 1, -1, 1, 1, -1]), position=15942)\n",
      "WeakClassifier(polarity=1, threshold=-8.0, alpha=1.5082054352909342, classifier=Feature(type='Two Horizontal', x=10, y=2, width=2, height=1, coords_x=[10, 11, 10, 11, 11, 12, 11, 12], coords_y=[2, 2, 3, 3, 2, 2, 3, 3], coeffs=[-1, 1, 1, -1, 1, -1, -1, 1]), position=30548)\n",
      "WeakClassifier(polarity=1, threshold=-10.0, alpha=1.4401225852941009, classifier=Feature(type='Two Vertical', x=12, y=15, width=1, height=4, coords_x=[12, 13, 12, 13, 12, 13, 12, 13], coords_y=[15, 15, 17, 17, 17, 17, 19, 19], coeffs=[1, -1, -1, 1, -1, 1, 1, -1]), position=15183)\n",
      "WeakClassifier(polarity=1, threshold=-8.0, alpha=1.4738424046525616, classifier=Feature(type='Two Horizontal', x=5, y=8, width=2, height=1, coords_x=[5, 6, 5, 6, 6, 7, 6, 7], coords_y=[8, 8, 9, 9, 8, 8, 9, 9], coeffs=[-1, 1, 1, -1, 1, -1, -1, 1]), position=25758)\n",
      "WeakClassifier(polarity=1, threshold=-152.0, alpha=1.3019666647184847, classifier=Feature(type='Four', x=10, y=4, width=2, height=14, coords_x=[10, 11, 10, 11, 11, 12, 11, 12, 10, 11, 10, 11, 11, 12, 11, 12], coords_y=[4, 4, 11, 11, 4, 4, 11, 11, 11, 11, 18, 18, 11, 11, 18, 18], coeffs=[-1, 1, 1, -1, 1, -1, -1, 1, 1, -1, -1, 1, -1, 1, 1, -1]), position=62302)\n"
     ]
    }
   ],
   "source": [
    "print('Classifiers for round: 5')\n",
    "pickle_it(weak_classifiers_t5, 'fn_weak_classifiers_t5')\n",
    "for i,wc in enumerate(weak_classifiers_t5):\n",
    "    print(wc)"
   ]
  },
  {
   "cell_type": "markdown",
   "metadata": {},
   "source": [
    "##### Train"
   ]
  },
  {
   "cell_type": "code",
   "execution_count": 72,
   "metadata": {},
   "outputs": [],
   "source": [
    "# train_fX corresponds to values of this 'feature'\n",
    "def apply_feature(feature, position, train_fX, train_Y, weights):\n",
    "    threshold, polarity = determine_threshold_polarity(train_fX, train_Y, weights)\n",
    "    \n",
    "    # Determine the classification error, more sensitive to false positives\n",
    "    H = np_weak_classifier(train_fX, polarity, threshold)\n",
    "    '''\n",
    "    labels: \n",
    "    1 -> false positive\n",
    "    0 -> true positive or true negative, predicted == true\n",
    "    -1 -> false negative\n",
    "    '''\n",
    "    labels = H - train_Y\n",
    "    fp_err = np.sum(weights[labels==1])\n",
    "    fn_err = np.sum(weights[labels==-1])\n",
    "    error = 0.2*fp_err + 0.8*fn_err\n",
    "            \n",
    "    return ClassifierResult(threshold=threshold, polarity=polarity, \n",
    "                            classification_error=error+0.1, feature=feature, position=position)"
   ]
  },
  {
   "cell_type": "markdown",
   "metadata": {},
   "source": [
    "## 2.4.1 (20 Points) Build the Cascading system:"
   ]
  },
  {
   "cell_type": "markdown",
   "metadata": {},
   "source": [
    "#### Cascade Adaboost, T = 30"
   ]
  },
  {
   "cell_type": "markdown",
   "metadata": {},
   "source": [
    "##### Train"
   ]
  },
  {
   "cell_type": "code",
   "execution_count": 123,
   "metadata": {
    "scrolled": true
   },
   "outputs": [
    {
     "name": "stdout",
     "output_type": "stream",
     "text": [
      "Input shape for 5 round detector: (2499, 63960)\n",
      "Tranining Adaboost\n",
      "Round: (1/5)\n",
      "processed: 1000 2000 3000 4000 5000 6000 7000 8000 9000 10000 11000 12000 13000 14000 15000 16000 17000 18000 19000 20000 21000 22000 23000 24000 25000 26000 27000 28000 29000 30000 31000 \n",
      "Round: (2/5)\n",
      "processed: 1000 2000 3000 4000 5000 6000 7000 8000 9000 10000 11000 12000 13000 14000 15000 16000 17000 18000 19000 20000 21000 22000 23000 24000 25000 26000 27000 28000 29000 30000 31000 \n",
      "Round: (3/5)\n",
      "processed: 1000 2000 3000 4000 5000 6000 7000 8000 9000 10000 11000 12000 13000 14000 15000 16000 17000 18000 19000 20000 21000 22000 23000 24000 25000 26000 27000 28000 29000 30000 31000 32000 \n",
      "Round: (4/5)\n",
      "processed: 1000 2000 3000 4000 5000 6000 7000 8000 9000 10000 11000 12000 13000 14000 15000 16000 17000 18000 19000 20000 21000 22000 23000 24000 25000 26000 27000 28000 29000 30000 31000 \n",
      "Round: (5/5)\n",
      "processed: 1000 2000 3000 4000 5000 6000 7000 8000 9000 10000 11000 12000 13000 14000 15000 16000 17000 18000 19000 20000 21000 22000 23000 24000 25000 26000 27000 28000 29000 30000 31000 \n",
      "Image discarded after 5 round detector: 1794\n",
      "Input shape for 5 round detector: (705, 63960)\n",
      "Tranining Adaboost\n",
      "Round: (1/5)\n",
      "processed: 1000 2000 3000 4000 5000 6000 7000 8000 9000 10000 11000 12000 13000 14000 15000 16000 17000 18000 19000 20000 21000 22000 23000 24000 25000 26000 27000 28000 29000 30000 31000 \n",
      "Round: (2/5)\n",
      "processed: 1000 2000 3000 4000 5000 6000 7000 8000 9000 10000 11000 12000 13000 14000 15000 16000 17000 18000 19000 20000 21000 22000 23000 24000 25000 26000 27000 28000 29000 30000 31000 32000 \n",
      "Round: (3/5)\n",
      "processed: 1000 2000 3000 4000 5000 6000 7000 8000 9000 10000 11000 12000 13000 14000 15000 16000 17000 18000 19000 20000 21000 22000 23000 24000 25000 26000 27000 28000 29000 30000 31000 32000 \n",
      "Round: (4/5)\n",
      "processed: 1000 2000 3000 4000 5000 6000 7000 8000 9000 10000 11000 12000 13000 14000 15000 16000 17000 18000 19000 20000 21000 22000 23000 24000 25000 26000 27000 28000 29000 30000 31000 \n",
      "Round: (5/5)\n",
      "processed: 1000 2000 3000 4000 5000 6000 7000 8000 9000 10000 11000 12000 13000 14000 15000 16000 17000 18000 19000 20000 21000 22000 23000 24000 25000 26000 27000 28000 29000 30000 31000 \n",
      "Image discarded after 5 round detector: 170\n",
      "Input shape for 10 round detector: (535, 63960)\n",
      "Tranining Adaboost\n",
      "Round: (1/10)\n",
      "processed: 1000 2000 3000 4000 5000 6000 7000 8000 9000 10000 11000 12000 13000 14000 15000 16000 17000 18000 19000 20000 21000 22000 23000 24000 25000 26000 27000 28000 29000 30000 31000 32000 \n",
      "Round: (2/10)\n",
      "processed: 1000 2000 3000 4000 5000 6000 7000 8000 9000 10000 11000 12000 13000 14000 15000 16000 17000 18000 19000 20000 21000 22000 23000 24000 25000 26000 27000 28000 29000 30000 31000 \n",
      "Round: (3/10)\n",
      "processed: 1000 2000 3000 4000 5000 6000 7000 8000 9000 10000 11000 12000 13000 14000 15000 16000 17000 18000 19000 20000 21000 22000 23000 24000 25000 26000 27000 28000 29000 30000 31000 \n",
      "Round: (4/10)\n",
      "processed: 1000 2000 3000 4000 5000 6000 7000 8000 9000 10000 11000 12000 13000 14000 15000 16000 17000 18000 19000 20000 21000 22000 23000 24000 25000 26000 27000 28000 29000 30000 31000 \n",
      "Round: (5/10)\n",
      "processed: 1000 2000 3000 4000 5000 6000 7000 8000 9000 10000 11000 12000 13000 14000 15000 16000 17000 18000 19000 20000 21000 22000 23000 24000 25000 26000 27000 28000 29000 30000 31000 32000 \n",
      "Round: (6/10)\n",
      "processed: 1000 2000 3000 4000 5000 6000 7000 8000 9000 10000 11000 12000 13000 14000 15000 16000 17000 18000 19000 20000 21000 22000 23000 24000 25000 26000 27000 28000 29000 30000 31000 \n",
      "Round: (7/10)\n",
      "processed: 1000 2000 3000 4000 5000 6000 7000 8000 9000 10000 11000 12000 13000 14000 15000 16000 17000 18000 19000 20000 21000 22000 23000 24000 25000 26000 27000 28000 29000 30000 31000 32000 \n",
      "Round: (8/10)\n",
      "processed: 1000 2000 3000 4000 5000 6000 7000 8000 9000 10000 11000 12000 13000 14000 15000 16000 17000 18000 19000 20000 21000 22000 23000 24000 25000 26000 27000 28000 29000 30000 31000 32000 \n",
      "Round: (9/10)\n",
      "processed: 1000 2000 3000 4000 5000 6000 7000 8000 9000 10000 11000 12000 13000 14000 15000 16000 17000 18000 19000 20000 21000 22000 23000 24000 25000 26000 27000 28000 29000 30000 31000 32000 \n",
      "Round: (10/10)\n",
      "processed: 1000 2000 3000 4000 5000 6000 7000 8000 9000 10000 11000 12000 13000 14000 15000 16000 17000 18000 19000 20000 21000 22000 23000 24000 25000 26000 27000 28000 29000 30000 31000 32000 \n",
      "Image discarded after 10 round detector: 35\n",
      "Input shape for 10 round detector: (500, 63960)\n",
      "Tranining Adaboost\n",
      "Round: (1/10)\n",
      "processed: 1000 2000 3000 4000 5000 6000 7000 8000 9000 10000 11000 12000 13000 14000 15000 16000 17000 18000 19000 20000 21000 22000 23000 24000 25000 26000 27000 28000 29000 30000 31000 \n",
      "Round: (2/10)\n",
      "processed: 1000 2000 3000 4000 5000 6000 7000 8000 9000 10000 11000 12000 13000 14000 15000 16000 17000 18000 19000 20000 21000 22000 23000 24000 25000 26000 27000 28000 29000 30000 31000 \n",
      "Round: (3/10)\n",
      "processed: 1000 2000 3000 4000 5000 6000 7000 8000 9000 10000 11000 12000 13000 14000 15000 16000 17000 18000 19000 20000 21000 22000 23000 24000 25000 26000 27000 28000 29000 30000 31000 \n",
      "Round: (4/10)\n",
      "processed: 1000 2000 3000 4000 5000 6000 7000 8000 9000 10000 11000 12000 13000 14000 15000 16000 17000 18000 19000 20000 21000 22000 23000 24000 25000 26000 27000 28000 29000 30000 31000 32000 \n",
      "Round: (5/10)\n",
      "processed: 1000 2000 3000 4000 5000 6000 7000 8000 9000 10000 11000 12000 13000 14000 15000 16000 17000 18000 19000 20000 21000 22000 23000 24000 25000 26000 27000 28000 29000 30000 31000 32000 \n",
      "Round: (6/10)\n",
      "processed: 1000 2000 3000 4000 5000 6000 7000 8000 9000 10000 11000 12000 13000 14000 15000 16000 17000 18000 19000 20000 21000 22000 23000 24000 25000 26000 27000 28000 29000 30000 31000 \n",
      "Round: (7/10)\n",
      "processed: 1000 2000 3000 4000 5000 6000 7000 8000 9000 10000 11000 12000 13000 14000 15000 16000 17000 18000 19000 20000 21000 22000 23000 24000 25000 26000 27000 28000 29000 30000 31000 32000 \n",
      "Round: (8/10)\n",
      "processed: 1000 2000 3000 4000 5000 6000 7000 8000 9000 10000 11000 12000 13000 14000 15000 16000 17000 18000 19000 20000 21000 22000 23000 24000 25000 26000 27000 28000 29000 30000 31000 \n",
      "Round: (9/10)\n",
      "processed: 1000 2000 3000 4000 5000 6000 7000 8000 9000 10000 11000 12000 13000 14000 15000 16000 17000 18000 19000 20000 21000 22000 23000 24000 25000 26000 27000 28000 29000 30000 31000 32000 \n",
      "Round: (10/10)\n",
      "processed: 1000 2000 3000 4000 5000 6000 7000 8000 9000 10000 11000 12000 13000 14000 15000 16000 17000 18000 19000 20000 21000 22000 23000 24000 25000 26000 27000 28000 29000 30000 31000 \n",
      "Image discarded after 10 round detector: 1\n",
      "time to execute 50 rounds: 1001.881698 s\n"
     ]
    }
   ],
   "source": [
    "import time\n",
    "import numpy as np\n",
    "\n",
    "# train_X = np.load('train-X', allow_pickle=True)\n",
    "# train_Y = np.load('train-Y', allow_pickle=True)\n",
    "# test_X = np.load('test-X', allow_pickle=True)\n",
    "# test_Y = np.load('test-Y', allow_pickle=True)\n",
    "start_time = time.time()\n",
    "\n",
    "cascade_rounds = [5,5,10,10]\n",
    "# true positives, faces, Y=1\n",
    "TP_Y = train_Y[train_Y > 0.5]\n",
    "TP_X = train_X[train_Y > 0.5,:]\n",
    "# true negatives, non-faces, Y=0\n",
    "TF_Y = train_Y[train_Y < 0.5]\n",
    "TF_X = train_X[train_Y < 0.5,:]\n",
    "\n",
    "weak_classifiers_cs = []\n",
    "for T in cascade_rounds:\n",
    "    tt_X = np.append(TP_X, TF_X, axis=0)\n",
    "    tt_Y = np.append(TP_Y, TF_Y)\n",
    "    if (len(tt_Y[tt_Y < 0.5]) == 0):\n",
    "        print('The detector has discarded all non faces, cascading classifiers are ready.')\n",
    "        break\n",
    "        \n",
    "    print('Input shape for %d round detector: %s' % (T, str(tt_X.shape)))\n",
    "    weak_classifiers = train(tt_X, tt_Y, T, all_features)\n",
    "    weak_classifiers_cs.append(weak_classifiers)\n",
    "    # predicted values\n",
    "    pred_TF_Y = np_strong_classifier(TF_X, weak_classifiers)\n",
    "    # discard the non faces from TF\n",
    "    # add back those images which are predicted as faces\n",
    "    print('Image discarded after %d round detector: %d' % (T, TF_Y[pred_TF_Y < 0.5].shape[0]))\n",
    "    TF_Y = TF_Y[pred_TF_Y > 0.5]\n",
    "    TF_X = TF_X[pred_TF_Y > 0.5,:]\n",
    "\n",
    "\n",
    "end_time = time.time()\n",
    "print('time to execute 30 rounds: %f s' % (end_time - start_time))\n",
    "    "
   ]
  },
  {
   "cell_type": "markdown",
   "metadata": {},
   "source": [
    "##### Test"
   ]
  },
  {
   "cell_type": "code",
   "execution_count": 137,
   "metadata": {
    "scrolled": true
   },
   "outputs": [
    {
     "name": "stdout",
     "output_type": "stream",
     "text": [
      "Performance on Train Data:\n",
      "Evaluation:\n",
      "accuracy: 0.948780, false positive rate: 0.000000 false negative rate: 0.051220\n",
      "\n",
      "Performance on Test Data:\n",
      "Evaluation:\n",
      "accuracy: 0.816822, false positive rate: 0.002831 false negative rate: 0.180348\n"
     ]
    }
   ],
   "source": [
    "print('Performance on Train Data:')\n",
    "eval_cascade_classifiers(weak_classifiers_cs, train_X, train_Y)\n",
    "print('')\n",
    "print('Performance on Test Data:')\n",
    "eval_cascade_classifiers(weak_classifiers_cs, test_X, test_Y)"
   ]
  },
  {
   "cell_type": "code",
   "execution_count": 136,
   "metadata": {},
   "outputs": [],
   "source": [
    "from sklearn.metrics import confusion_matrix\n",
    "from sklearn.metrics import accuracy_score\n",
    "\n",
    "def eval_cascade_classifiers(weak_classifiers_cs, test_X, test_Y):\n",
    "    tt_X = test_X\n",
    "    tt_Y = test_Y\n",
    "    pred_Y = np.ones(tt_Y.shape)\n",
    "    for wc in weak_classifiers_cs:\n",
    "        for i in range(pred_Y.shape[0]):\n",
    "            # only check if earlier prediction for the image is a face\n",
    "            # discard if earlier prediction is non-face\n",
    "            if pred_Y[i]>0.5:\n",
    "                if len(wc) > 1:\n",
    "                    pred_Y[i] = np_strong_classifier(tt_X[i:i+1,:], wc)[0]\n",
    "                else:\n",
    "                    pred_Y[i] = weak_classifier(tt_X[i,wc[0].position], wc[0].polarity, wc[0].threshold)\n",
    "\n",
    "    cm = confusion_matrix(test_Y, pred_Y)\n",
    "    tn, fp, fn, tp = cm.ravel()\n",
    "    num_samples = test_Y.shape[0]\n",
    "    false_positive_rate = (fp*1.0)/num_samples\n",
    "    false_negative_rate = (fn*1.0)/num_samples\n",
    "    accuracy = accuracy_score(test_Y, pred_Y)\n",
    "    print('Evaluation:\\naccuracy: %f, false positive rate: %f false negative rate: %f' % (accuracy, false_positive_rate, false_negative_rate))\n",
    "        "
   ]
  },
  {
   "cell_type": "markdown",
   "metadata": {},
   "source": [
    "#### Regular Adaboost, T = 30"
   ]
  },
  {
   "cell_type": "code",
   "execution_count": 125,
   "metadata": {
    "scrolled": true
   },
   "outputs": [
    {
     "name": "stdout",
     "output_type": "stream",
     "text": [
      "Tranining Adaboost\n",
      "Round: (1/30)\n",
      "processed: 1000 2000 3000 4000 5000 6000 7000 8000 9000 10000 11000 12000 13000 14000 15000 16000 17000 18000 19000 20000 21000 22000 23000 24000 25000 26000 27000 28000 29000 30000 31000 \n",
      "Round: (2/30)\n",
      "processed: 1000 2000 3000 4000 5000 6000 7000 8000 9000 10000 11000 12000 13000 14000 15000 16000 17000 18000 19000 20000 21000 22000 23000 24000 25000 26000 27000 28000 29000 30000 31000 \n",
      "Round: (3/30)\n",
      "processed: 1000 2000 3000 4000 5000 6000 7000 8000 9000 10000 11000 12000 13000 14000 15000 16000 17000 18000 19000 20000 21000 22000 23000 24000 25000 26000 27000 28000 29000 30000 31000 \n",
      "Round: (4/30)\n",
      "processed: 1000 2000 3000 4000 5000 6000 7000 8000 9000 10000 11000 12000 13000 14000 15000 16000 17000 18000 19000 20000 21000 22000 23000 24000 25000 26000 27000 28000 29000 30000 31000 32000 \n",
      "Round: (5/30)\n",
      "processed: 1000 2000 3000 4000 5000 6000 7000 8000 9000 10000 11000 12000 13000 14000 15000 16000 17000 18000 19000 20000 21000 22000 23000 24000 25000 26000 27000 28000 29000 30000 31000 \n",
      "Round: (6/30)\n",
      "processed: 1000 2000 3000 4000 5000 6000 7000 8000 9000 10000 11000 12000 13000 14000 15000 16000 17000 18000 19000 20000 21000 22000 23000 24000 25000 26000 27000 28000 29000 30000 31000 32000 \n",
      "Round: (7/30)\n",
      "processed: 1000 2000 3000 4000 5000 6000 7000 8000 9000 10000 11000 12000 13000 14000 15000 16000 17000 18000 19000 20000 21000 22000 23000 24000 25000 26000 27000 28000 29000 30000 31000 \n",
      "Round: (8/30)\n",
      "processed: 1000 2000 3000 4000 5000 6000 7000 8000 9000 10000 11000 12000 13000 14000 15000 16000 17000 18000 19000 20000 21000 22000 23000 24000 25000 26000 27000 28000 29000 30000 31000 \n",
      "Round: (9/30)\n",
      "processed: 1000 2000 3000 4000 5000 6000 7000 8000 9000 10000 11000 12000 13000 14000 15000 16000 17000 18000 19000 20000 21000 22000 23000 24000 25000 26000 27000 28000 29000 30000 31000 \n",
      "Round: (10/30)\n",
      "processed: 1000 2000 3000 4000 5000 6000 7000 8000 9000 10000 11000 12000 13000 14000 15000 16000 17000 18000 19000 20000 21000 22000 23000 24000 25000 26000 27000 28000 29000 30000 31000 \n",
      "Round: (11/30)\n",
      "processed: 1000 2000 3000 4000 5000 6000 7000 8000 9000 10000 11000 12000 13000 14000 15000 16000 17000 18000 19000 20000 21000 22000 23000 24000 25000 26000 27000 28000 29000 30000 31000 \n",
      "Round: (12/30)\n",
      "processed: 1000 2000 3000 4000 5000 6000 7000 8000 9000 10000 11000 12000 13000 14000 15000 16000 17000 18000 19000 20000 21000 22000 23000 24000 25000 26000 27000 28000 29000 30000 31000 32000 \n",
      "Round: (13/30)\n",
      "processed: 1000 2000 3000 4000 5000 6000 7000 8000 9000 10000 11000 12000 13000 14000 15000 16000 17000 18000 19000 20000 21000 22000 23000 24000 25000 26000 27000 28000 29000 30000 31000 32000 \n",
      "Round: (14/30)\n",
      "processed: 1000 2000 3000 4000 5000 6000 7000 8000 9000 10000 11000 12000 13000 14000 15000 16000 17000 18000 19000 20000 21000 22000 23000 24000 25000 26000 27000 28000 29000 30000 31000 32000 \n",
      "Round: (15/30)\n",
      "processed: 1000 2000 3000 4000 5000 6000 7000 8000 9000 10000 11000 12000 13000 14000 15000 16000 17000 18000 19000 20000 21000 22000 23000 24000 25000 26000 27000 28000 29000 30000 31000 \n",
      "Round: (16/30)\n",
      "processed: 1000 2000 3000 4000 5000 6000 7000 8000 9000 10000 11000 12000 13000 14000 15000 16000 17000 18000 19000 20000 21000 22000 23000 24000 25000 26000 27000 28000 29000 30000 31000 32000 \n",
      "Round: (17/30)\n",
      "processed: 1000 2000 3000 4000 5000 6000 7000 8000 9000 10000 11000 12000 13000 14000 15000 16000 17000 18000 19000 20000 21000 22000 23000 24000 25000 26000 27000 28000 29000 30000 31000 32000 \n",
      "Round: (18/30)\n",
      "processed: 1000 2000 3000 4000 5000 6000 7000 8000 9000 10000 11000 12000 13000 14000 15000 16000 17000 18000 19000 20000 21000 22000 23000 24000 25000 26000 27000 28000 29000 30000 31000 32000 \n",
      "Round: (19/30)\n",
      "processed: 1000 2000 3000 4000 5000 6000 7000 8000 9000 10000 11000 12000 13000 14000 15000 16000 17000 18000 19000 20000 21000 22000 23000 24000 25000 26000 27000 28000 29000 30000 31000 \n",
      "Round: (20/30)\n",
      "processed: 1000 2000 3000 4000 5000 6000 7000 8000 9000 10000 11000 12000 13000 14000 15000 16000 17000 18000 19000 20000 21000 22000 23000 24000 25000 26000 27000 28000 29000 30000 31000 \n",
      "Round: (21/30)\n",
      "processed: 1000 2000 3000 4000 5000 6000 7000 8000 9000 10000 11000 12000 13000 14000 15000 16000 17000 18000 19000 20000 21000 22000 23000 24000 25000 26000 27000 28000 29000 30000 31000 32000 \n",
      "Round: (22/30)\n",
      "processed: 1000 2000 3000 4000 5000 6000 7000 8000 9000 10000 11000 12000 13000 14000 15000 16000 17000 18000 19000 20000 21000 22000 23000 24000 25000 26000 27000 28000 29000 30000 31000 32000 \n",
      "Round: (23/30)\n",
      "processed: 1000 2000 3000 4000 5000 6000 7000 8000 9000 10000 11000 12000 13000 14000 15000 16000 17000 18000 19000 20000 21000 22000 23000 24000 25000 26000 27000 28000 29000 30000 31000 \n",
      "Round: (24/30)\n",
      "processed: 1000 2000 3000 4000 5000 6000 7000 8000 9000 10000 11000 12000 13000 14000 15000 16000 17000 18000 19000 20000 21000 22000 23000 24000 25000 26000 27000 28000 29000 30000 31000 \n",
      "Round: (25/30)\n",
      "processed: 1000 2000 3000 4000 5000 6000 7000 8000 9000 10000 11000 12000 13000 14000 15000 16000 17000 18000 19000 20000 21000 22000 23000 24000 25000 26000 27000 28000 29000 30000 31000 \n",
      "Round: (26/30)\n",
      "processed: 1000 2000 3000 4000 5000 6000 7000 8000 9000 10000 11000 12000 13000 14000 15000 16000 17000 18000 19000 20000 21000 22000 23000 24000 25000 26000 27000 28000 29000 30000 31000 \n",
      "Round: (27/30)\n",
      "processed: 1000 2000 3000 4000 5000 6000 7000 8000 9000 10000 11000 12000 13000 14000 15000 16000 17000 18000 19000 20000 21000 22000 23000 24000 25000 26000 27000 28000 29000 30000 31000 32000 \n",
      "Round: (28/30)\n",
      "processed: 1000 2000 3000 4000 5000 6000 7000 8000 9000 10000 11000 12000 13000 14000 15000 16000 17000 18000 19000 20000 21000 22000 23000 24000 25000 26000 27000 28000 29000 30000 31000 \n",
      "Round: (29/30)\n",
      "processed: 1000 2000 3000 4000 5000 6000 7000 8000 9000 10000 11000 12000 13000 14000 15000 16000 17000 18000 19000 20000 21000 22000 23000 24000 25000 26000 27000 28000 29000 30000 31000 \n",
      "Round: (30/30)\n",
      "processed: 1000 2000 3000 4000 5000 6000 7000 8000 9000 10000 11000 12000 13000 14000 15000 16000 17000 18000 19000 20000 21000 22000 23000 24000 25000 26000 27000 28000 29000 30000 31000 \n",
      "time to execute 30 rounds: 2877.587284 s\n"
     ]
    }
   ],
   "source": [
    "import time\n",
    "import numpy as np\n",
    "\n",
    "train_X = np.load('train-X', allow_pickle=True)\n",
    "train_Y = np.load('train-Y', allow_pickle=True)\n",
    "test_X = np.load('test-X', allow_pickle=True)\n",
    "test_Y = np.load('test-Y', allow_pickle=True)\n",
    "\n",
    "start_time = time.time()\n",
    "weak_classifiers_t30 = train(train_X, train_Y, 30, all_features)\n",
    "end_time = time.time()\n",
    "print('time to execute 30 rounds: %f s' % (end_time - start_time))"
   ]
  },
  {
   "cell_type": "code",
   "execution_count": 126,
   "metadata": {},
   "outputs": [
    {
     "name": "stdout",
     "output_type": "stream",
     "text": [
      "Performance on Train Data, T=30\n",
      "Evaluation:\n",
      "accuracy: 0.938375, false positive rate: 0.050420 false negative rate: 0.011204\n",
      "\n",
      "Performance on Test Data, T=30\n",
      "Evaluation:\n",
      "accuracy: 0.839062, false positive rate: 0.013344 false negative rate: 0.147594\n"
     ]
    }
   ],
   "source": [
    "print('Performance on Train Data, T=30')\n",
    "pred_stats = test_strong_classifier(train_X, train_Y, weak_classifiers_t30)\n",
    "print('')\n",
    "print('Performance on Test Data, T=30')\n",
    "pred_stats = test_strong_classifier(test_X, test_Y, weak_classifiers_t30)"
   ]
  },
  {
   "cell_type": "code",
   "execution_count": 127,
   "metadata": {
    "scrolled": true
   },
   "outputs": [
    {
     "name": "stdout",
     "output_type": "stream",
     "text": [
      "Classifiers for round: 30\n",
      "WeakClassifier(polarity=1, threshold=-182.0, alpha=1.6762838449232749, classifier=Feature(type='Two Vertical', x=14, y=3, width=2, height=6, coords_x=[14, 16, 14, 16, 14, 16, 14, 16], coords_y=[3, 3, 6, 6, 6, 6, 9, 9], coeffs=[1, -1, -1, 1, -1, 1, 1, -1]), position=15890)\n",
      "WeakClassifier(polarity=1, threshold=-9.0, alpha=1.145246792350553, classifier=Feature(type='Two Vertical', x=5, y=14, width=1, height=4, coords_x=[5, 6, 5, 6, 5, 6, 5, 6], coords_y=[14, 14, 16, 16, 16, 16, 18, 18], coeffs=[1, -1, -1, 1, -1, 1, 1, -1]), position=8827)\n",
      "WeakClassifier(polarity=1, threshold=-41.0, alpha=1.1311753735014036, classifier=Feature(type='Two Horizontal', x=10, y=0, width=2, height=4, coords_x=[10, 11, 10, 11, 11, 12, 11, 12], coords_y=[0, 0, 4, 4, 0, 0, 4, 4], coeffs=[-1, 1, 1, -1, 1, -1, -1, 1]), position=30403)\n",
      "WeakClassifier(polarity=1, threshold=-54.0, alpha=1.0066408458663105, classifier=Feature(type='Two Vertical', x=6, y=11, width=7, height=2, coords_x=[6, 13, 6, 13, 6, 13, 6, 13], coords_y=[11, 11, 12, 12, 12, 12, 13, 13], coeffs=[1, -1, -1, 1, -1, 1, 1, -1]), position=9896)\n",
      "WeakClassifier(polarity=1, threshold=-10.0, alpha=0.9415859852651707, classifier=Feature(type='Two Horizontal', x=5, y=7, width=2, height=2, coords_x=[5, 6, 5, 6, 6, 7, 6, 7], coords_y=[7, 7, 9, 9, 7, 7, 9, 9], coeffs=[-1, 1, 1, -1, 1, -1, -1, 1]), position=25675)\n",
      "WeakClassifier(polarity=1, threshold=-134.0, alpha=0.8233480455986116, classifier=Feature(type='Two Vertical', x=5, y=15, width=12, height=2, coords_x=[5, 17, 5, 17, 5, 17, 5, 17], coords_y=[15, 15, 16, 16, 16, 16, 17, 17], coeffs=[1, -1, -1, 1, -1, 1, 1, -1]), position=8876)\n",
      "WeakClassifier(polarity=1, threshold=-175.0, alpha=0.5951358809627292, classifier=Feature(type='Four', x=10, y=3, width=2, height=16, coords_x=[10, 11, 10, 11, 11, 12, 11, 12, 10, 11, 10, 11, 11, 12, 11, 12], coords_y=[3, 3, 11, 11, 3, 3, 11, 11, 11, 11, 19, 19, 11, 11, 19, 19], coeffs=[-1, 1, 1, -1, 1, -1, -1, 1, 1, -1, -1, 1, -1, 1, 1, -1]), position=62271)\n",
      "WeakClassifier(polarity=1, threshold=-19.0, alpha=0.5157799127929616, classifier=Feature(type='Two Vertical', x=1, y=5, width=2, height=2, coords_x=[1, 3, 1, 3, 1, 3, 1, 3], coords_y=[5, 5, 6, 6, 6, 6, 7, 7], coeffs=[1, -1, -1, 1, -1, 1, 1, -1]), position=2455)\n",
      "WeakClassifier(polarity=1, threshold=-53.0, alpha=0.4041320612198347, classifier=Feature(type='Four', x=13, y=0, width=6, height=2, coords_x=[13, 16, 13, 16, 16, 19, 16, 19, 13, 16, 13, 16, 16, 19, 16, 19], coords_y=[0, 0, 1, 1, 0, 0, 1, 1, 1, 1, 2, 2, 1, 1, 2, 2], coeffs=[-1, 1, 1, -1, 1, -1, -1, 1, 1, -1, -1, 1, -1, 1, 1, -1]), position=63168)\n",
      "WeakClassifier(polarity=1, threshold=-30.0, alpha=0.21006876637368044, classifier=Feature(type='Two Vertical', x=17, y=4, width=1, height=4, coords_x=[17, 18, 17, 18, 17, 18, 17, 18], coords_y=[4, 4, 6, 6, 6, 6, 8, 8], coeffs=[1, -1, -1, 1, -1, 1, 1, -1]), position=16899)\n",
      "WeakClassifier(polarity=1, threshold=-29.0, alpha=0.11171012148263487, classifier=Feature(type='Four', x=1, y=16, width=8, height=2, coords_x=[1, 5, 1, 5, 5, 9, 5, 9, 1, 5, 1, 5, 5, 9, 5, 9], coords_y=[16, 16, 17, 17, 16, 16, 17, 17, 17, 17, 18, 18, 17, 17, 18, 18], coeffs=[-1, 1, 1, -1, 1, -1, -1, 1, 1, -1, -1, 1, -1, 1, 1, -1]), position=57465)\n",
      "WeakClassifier(polarity=1, threshold=-12.0, alpha=0.05113101693116017, classifier=Feature(type='Four', x=12, y=0, width=2, height=4, coords_x=[12, 13, 12, 13, 13, 14, 13, 14, 12, 13, 12, 13, 13, 14, 13, 14], coords_y=[0, 0, 2, 2, 0, 0, 2, 2, 2, 2, 4, 4, 2, 2, 4, 4], coeffs=[-1, 1, 1, -1, 1, -1, -1, 1, 1, -1, -1, 1, -1, 1, 1, -1]), position=62881)\n",
      "WeakClassifier(polarity=1, threshold=-19.0, alpha=0.09953192564500062, classifier=Feature(type='Two Vertical', x=3, y=4, width=1, height=2, coords_x=[3, 4, 3, 4, 3, 4, 3, 4], coords_y=[4, 4, 5, 5, 5, 5, 6, 6], coeffs=[1, -1, -1, 1, -1, 1, 1, -1]), position=5404)\n",
      "WeakClassifier(polarity=1, threshold=-19.0, alpha=0.0, classifier=Feature(type='Two Vertical', x=3, y=4, width=1, height=2, coords_x=[3, 4, 3, 4, 3, 4, 3, 4], coords_y=[4, 4, 5, 5, 5, 5, 6, 6], coeffs=[1, -1, -1, 1, -1, 1, 1, -1]), position=5404)\n",
      "WeakClassifier(polarity=1, threshold=-2.0, alpha=0.039628387734363925, classifier=Feature(type='Two Vertical', x=18, y=5, width=1, height=2, coords_x=[18, 19, 18, 19, 18, 19, 18, 19], coords_y=[5, 5, 6, 6, 6, 6, 7, 7], coeffs=[1, -1, -1, 1, -1, 1, 1, -1]), position=17051)\n",
      "WeakClassifier(polarity=1, threshold=-24.0, alpha=-0.02790240889541438, classifier=Feature(type='Two Vertical', x=1, y=5, width=11, height=2, coords_x=[1, 12, 1, 12, 1, 12, 1, 12], coords_y=[5, 5, 6, 6, 6, 6, 7, 7], coeffs=[1, -1, -1, 1, -1, 1, 1, -1]), position=2518)\n",
      "WeakClassifier(polarity=1, threshold=-2.0, alpha=0.013934769750564983, classifier=Feature(type='Two Vertical', x=18, y=5, width=1, height=2, coords_x=[18, 19, 18, 19, 18, 19, 18, 19], coords_y=[5, 5, 6, 6, 6, 6, 7, 7], coeffs=[1, -1, -1, 1, -1, 1, 1, -1]), position=17051)\n",
      "WeakClassifier(polarity=1, threshold=-29.0, alpha=0.0011581052816209464, classifier=Feature(type='Four', x=6, y=10, width=2, height=8, coords_x=[6, 7, 6, 7, 7, 8, 7, 8, 6, 7, 6, 7, 7, 8, 7, 8], coords_y=[10, 10, 14, 14, 10, 10, 14, 14, 14, 14, 18, 18, 14, 14, 18, 18], coeffs=[-1, 1, 1, -1, 1, -1, -1, 1, 1, -1, -1, 1, -1, 1, 1, -1]), position=60603)\n",
      "WeakClassifier(polarity=1, threshold=-29.0, alpha=4.440892098500625e-16, classifier=Feature(type='Four', x=6, y=10, width=2, height=8, coords_x=[6, 7, 6, 7, 7, 8, 7, 8, 6, 7, 6, 7, 7, 8, 7, 8], coords_y=[10, 10, 14, 14, 10, 10, 14, 14, 14, 14, 18, 18, 14, 14, 18, 18], coeffs=[-1, 1, 1, -1, 1, -1, -1, 1, 1, -1, -1, 1, -1, 1, 1, -1]), position=60603)\n",
      "WeakClassifier(polarity=1, threshold=-29.0, alpha=-4.440892098500627e-16, classifier=Feature(type='Four', x=6, y=10, width=2, height=8, coords_x=[6, 7, 6, 7, 7, 8, 7, 8, 6, 7, 6, 7, 7, 8, 7, 8], coords_y=[10, 10, 14, 14, 10, 10, 14, 14, 14, 14, 18, 18, 14, 14, 18, 18], coeffs=[-1, 1, 1, -1, 1, -1, -1, 1, 1, -1, -1, 1, -1, 1, 1, -1]), position=60603)\n",
      "WeakClassifier(polarity=1, threshold=-29.0, alpha=0.0, classifier=Feature(type='Four', x=6, y=10, width=2, height=8, coords_x=[6, 7, 6, 7, 7, 8, 7, 8, 6, 7, 6, 7, 7, 8, 7, 8], coords_y=[10, 10, 14, 14, 10, 10, 14, 14, 14, 14, 18, 18, 14, 14, 18, 18], coeffs=[-1, 1, 1, -1, 1, -1, -1, 1, 1, -1, -1, 1, -1, 1, 1, -1]), position=60603)\n",
      "WeakClassifier(polarity=1, threshold=-2.0, alpha=-0.0003767359641048347, classifier=Feature(type='Two Vertical', x=18, y=5, width=1, height=2, coords_x=[18, 19, 18, 19, 18, 19, 18, 19], coords_y=[5, 5, 6, 6, 6, 6, 7, 7], coeffs=[1, -1, -1, 1, -1, 1, 1, -1]), position=17051)\n",
      "WeakClassifier(polarity=1, threshold=-19.0, alpha=-0.006186204269812875, classifier=Feature(type='Two Vertical', x=3, y=4, width=1, height=2, coords_x=[3, 4, 3, 4, 3, 4, 3, 4], coords_y=[4, 4, 5, 5, 5, 5, 6, 6], coeffs=[1, -1, -1, 1, -1, 1, 1, -1]), position=5404)\n",
      "WeakClassifier(polarity=1, threshold=-19.0, alpha=0.0, classifier=Feature(type='Two Vertical', x=3, y=4, width=1, height=2, coords_x=[3, 4, 3, 4, 3, 4, 3, 4], coords_y=[4, 4, 5, 5, 5, 5, 6, 6], coeffs=[1, -1, -1, 1, -1, 1, 1, -1]), position=5404)\n",
      "WeakClassifier(polarity=1, threshold=-29.0, alpha=0.0019054386820936222, classifier=Feature(type='Four', x=6, y=10, width=2, height=8, coords_x=[6, 7, 6, 7, 7, 8, 7, 8, 6, 7, 6, 7, 7, 8, 7, 8], coords_y=[10, 10, 14, 14, 10, 10, 14, 14, 14, 14, 18, 18, 14, 14, 18, 18], coeffs=[-1, 1, 1, -1, 1, -1, -1, 1, 1, -1, -1, 1, -1, 1, 1, -1]), position=60603)\n",
      "WeakClassifier(polarity=1, threshold=-2.0, alpha=0.0007431705899750963, classifier=Feature(type='Two Vertical', x=18, y=5, width=1, height=2, coords_x=[18, 19, 18, 19, 18, 19, 18, 19], coords_y=[5, 5, 6, 6, 6, 6, 7, 7], coeffs=[1, -1, -1, 1, -1, 1, 1, -1]), position=17051)\n",
      "WeakClassifier(polarity=1, threshold=-29.0, alpha=-0.00024132135973919033, classifier=Feature(type='Four', x=6, y=10, width=2, height=8, coords_x=[6, 7, 6, 7, 7, 8, 7, 8, 6, 7, 6, 7, 7, 8, 7, 8], coords_y=[10, 10, 14, 14, 10, 10, 14, 14, 14, 14, 18, 18, 14, 14, 18, 18], coeffs=[-1, 1, 1, -1, 1, -1, -1, 1, 1, -1, -1, 1, -1, 1, 1, -1]), position=60603)\n",
      "WeakClassifier(polarity=1, threshold=-2.0, alpha=7.836155311385667e-05, classifier=Feature(type='Two Vertical', x=18, y=5, width=1, height=2, coords_x=[18, 19, 18, 19, 18, 19, 18, 19], coords_y=[5, 5, 6, 6, 6, 6, 7, 7], coeffs=[1, -1, -1, 1, -1, 1, 1, -1]), position=17051)\n",
      "WeakClassifier(polarity=1, threshold=-2.0, alpha=0.0, classifier=Feature(type='Two Vertical', x=18, y=5, width=1, height=2, coords_x=[18, 19, 18, 19, 18, 19, 18, 19], coords_y=[5, 5, 6, 6, 6, 6, 7, 7], coeffs=[1, -1, -1, 1, -1, 1, 1, -1]), position=17051)\n",
      "WeakClassifier(polarity=1, threshold=-19.0, alpha=-0.0006605974704261159, classifier=Feature(type='Two Vertical', x=3, y=4, width=1, height=2, coords_x=[3, 4, 3, 4, 3, 4, 3, 4], coords_y=[4, 4, 5, 5, 5, 5, 6, 6], coeffs=[1, -1, -1, 1, -1, 1, 1, -1]), position=5404)\n"
     ]
    }
   ],
   "source": [
    "print('Classifiers for round: 30')\n",
    "pickle_it(weak_classifiers_t30, 'weak_classifiers_t30')\n",
    "for wc in weak_classifiers_t30:\n",
    "    print(wc)"
   ]
  },
  {
   "cell_type": "markdown",
   "metadata": {},
   "source": []
  }
 ],
 "metadata": {
  "kernelspec": {
   "display_name": "Python 3",
   "language": "python",
   "name": "python3"
  },
  "language_info": {
   "codemirror_mode": {
    "name": "ipython",
    "version": 3
   },
   "file_extension": ".py",
   "mimetype": "text/x-python",
   "name": "python",
   "nbconvert_exporter": "python",
   "pygments_lexer": "ipython3",
   "version": "3.6.9"
  }
 },
 "nbformat": 4,
 "nbformat_minor": 2
}
